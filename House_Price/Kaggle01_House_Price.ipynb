{
 "cells": [
  {
   "cell_type": "markdown",
   "metadata": {},
   "source": [
    "# Kaggle Project: [House Price Prediction](https://www.kaggle.com/c/house-prices-advanced-regression-techniques)\n",
    "\n",
    "\n"
   ]
  },
  {
   "cell_type": "markdown",
   "metadata": {},
   "source": [
    "- Goal\n",
    "\n",
    "It is your job to predict the sales price for each house. For each Id in the test set, you must predict the value of the SalePrice variable. \n",
    "\n",
    "- Metric\n",
    "\n",
    "Submissions are evaluated on Root-Mean-Squared-Error (RMSE) between the logarithm of the predicted value and the logarithm of the observed sales price. (Taking logs means that errors in predicting expensive houses and cheap houses will affect the result equally.)\n",
    "\n",
    "- Submission File Format\n",
    "\n",
    "The file should contain a header and have the following format:\n",
    "\n",
    "Id,SalePrice   \n",
    "1461,169000.1    \n",
    "1462,187724.1233    \n",
    "1463,175221   \n",
    "etc.   "
   ]
  },
  {
   "cell_type": "code",
   "execution_count": 1,
   "metadata": {},
   "outputs": [],
   "source": [
    "import pandas as pd\n",
    "import matplotlib.pyplot as plt\n",
    "import seaborn as sns\n",
    "import numpy as np\n",
    "from scipy.stats import norm\n",
    "from sklearn.preprocessing import StandardScaler\n",
    "from scipy import stats\n",
    "\n",
    "\n",
    "from sklearn.linear_model import Ridge,Lasso\n",
    "from sklearn.model_selection import train_test_split\n",
    "from sklearn.preprocessing import PolynomialFeatures\n",
    "from sklearn import linear_model\n",
    "from sklearn.metrics import r2_score\n"
   ]
  },
  {
   "cell_type": "code",
   "execution_count": 2,
   "metadata": {},
   "outputs": [],
   "source": [
    "import warnings\n",
    "warnings.filterwarnings('ignore')"
   ]
  },
  {
   "cell_type": "markdown",
   "metadata": {},
   "source": [
    "# Load Data"
   ]
  },
  {
   "cell_type": "code",
   "execution_count": 3,
   "metadata": {},
   "outputs": [
    {
     "data": {
      "text/html": [
       "<div>\n",
       "<style scoped>\n",
       "    .dataframe tbody tr th:only-of-type {\n",
       "        vertical-align: middle;\n",
       "    }\n",
       "\n",
       "    .dataframe tbody tr th {\n",
       "        vertical-align: top;\n",
       "    }\n",
       "\n",
       "    .dataframe thead th {\n",
       "        text-align: right;\n",
       "    }\n",
       "</style>\n",
       "<table border=\"1\" class=\"dataframe\">\n",
       "  <thead>\n",
       "    <tr style=\"text-align: right;\">\n",
       "      <th></th>\n",
       "      <th>Id</th>\n",
       "      <th>MSSubClass</th>\n",
       "      <th>MSZoning</th>\n",
       "      <th>LotFrontage</th>\n",
       "      <th>LotArea</th>\n",
       "      <th>Street</th>\n",
       "      <th>Alley</th>\n",
       "      <th>LotShape</th>\n",
       "      <th>LandContour</th>\n",
       "      <th>Utilities</th>\n",
       "      <th>...</th>\n",
       "      <th>PoolArea</th>\n",
       "      <th>PoolQC</th>\n",
       "      <th>Fence</th>\n",
       "      <th>MiscFeature</th>\n",
       "      <th>MiscVal</th>\n",
       "      <th>MoSold</th>\n",
       "      <th>YrSold</th>\n",
       "      <th>SaleType</th>\n",
       "      <th>SaleCondition</th>\n",
       "      <th>SalePrice</th>\n",
       "    </tr>\n",
       "  </thead>\n",
       "  <tbody>\n",
       "    <tr>\n",
       "      <th>0</th>\n",
       "      <td>1</td>\n",
       "      <td>60</td>\n",
       "      <td>RL</td>\n",
       "      <td>65.0</td>\n",
       "      <td>8450</td>\n",
       "      <td>Pave</td>\n",
       "      <td>NaN</td>\n",
       "      <td>Reg</td>\n",
       "      <td>Lvl</td>\n",
       "      <td>AllPub</td>\n",
       "      <td>...</td>\n",
       "      <td>0</td>\n",
       "      <td>NaN</td>\n",
       "      <td>NaN</td>\n",
       "      <td>NaN</td>\n",
       "      <td>0</td>\n",
       "      <td>2</td>\n",
       "      <td>2008</td>\n",
       "      <td>WD</td>\n",
       "      <td>Normal</td>\n",
       "      <td>208500</td>\n",
       "    </tr>\n",
       "    <tr>\n",
       "      <th>1</th>\n",
       "      <td>2</td>\n",
       "      <td>20</td>\n",
       "      <td>RL</td>\n",
       "      <td>80.0</td>\n",
       "      <td>9600</td>\n",
       "      <td>Pave</td>\n",
       "      <td>NaN</td>\n",
       "      <td>Reg</td>\n",
       "      <td>Lvl</td>\n",
       "      <td>AllPub</td>\n",
       "      <td>...</td>\n",
       "      <td>0</td>\n",
       "      <td>NaN</td>\n",
       "      <td>NaN</td>\n",
       "      <td>NaN</td>\n",
       "      <td>0</td>\n",
       "      <td>5</td>\n",
       "      <td>2007</td>\n",
       "      <td>WD</td>\n",
       "      <td>Normal</td>\n",
       "      <td>181500</td>\n",
       "    </tr>\n",
       "  </tbody>\n",
       "</table>\n",
       "<p>2 rows × 81 columns</p>\n",
       "</div>"
      ],
      "text/plain": [
       "   Id  MSSubClass MSZoning  LotFrontage  LotArea Street Alley LotShape  \\\n",
       "0   1          60       RL         65.0     8450   Pave   NaN      Reg   \n",
       "1   2          20       RL         80.0     9600   Pave   NaN      Reg   \n",
       "\n",
       "  LandContour Utilities    ...     PoolArea PoolQC Fence MiscFeature MiscVal  \\\n",
       "0         Lvl    AllPub    ...            0    NaN   NaN         NaN       0   \n",
       "1         Lvl    AllPub    ...            0    NaN   NaN         NaN       0   \n",
       "\n",
       "  MoSold YrSold  SaleType  SaleCondition  SalePrice  \n",
       "0      2   2008        WD         Normal     208500  \n",
       "1      5   2007        WD         Normal     181500  \n",
       "\n",
       "[2 rows x 81 columns]"
      ]
     },
     "execution_count": 3,
     "metadata": {},
     "output_type": "execute_result"
    }
   ],
   "source": [
    "df_train=pd.read_csv('data/train.csv')\n",
    "df_train.head(2)"
   ]
  },
  {
   "cell_type": "code",
   "execution_count": 54,
   "metadata": {},
   "outputs": [
    {
     "data": {
      "text/plain": [
       "array([ 8,  6,  7,  9,  5, 11,  4, 10, 12,  3,  2, 14])"
      ]
     },
     "execution_count": 54,
     "metadata": {},
     "output_type": "execute_result"
    }
   ],
   "source": [
    "df_train['TotRmsAbvGrd'].unique()"
   ]
  },
  {
   "cell_type": "code",
   "execution_count": 4,
   "metadata": {},
   "outputs": [
    {
     "data": {
      "text/plain": [
       "(1460, 81)"
      ]
     },
     "execution_count": 4,
     "metadata": {},
     "output_type": "execute_result"
    }
   ],
   "source": [
    "df_train.shape"
   ]
  },
  {
   "cell_type": "code",
   "execution_count": 5,
   "metadata": {},
   "outputs": [
    {
     "data": {
      "text/html": [
       "<div>\n",
       "<style scoped>\n",
       "    .dataframe tbody tr th:only-of-type {\n",
       "        vertical-align: middle;\n",
       "    }\n",
       "\n",
       "    .dataframe tbody tr th {\n",
       "        vertical-align: top;\n",
       "    }\n",
       "\n",
       "    .dataframe thead th {\n",
       "        text-align: right;\n",
       "    }\n",
       "</style>\n",
       "<table border=\"1\" class=\"dataframe\">\n",
       "  <thead>\n",
       "    <tr style=\"text-align: right;\">\n",
       "      <th></th>\n",
       "      <th>Id</th>\n",
       "      <th>MSSubClass</th>\n",
       "      <th>LotFrontage</th>\n",
       "      <th>LotArea</th>\n",
       "      <th>OverallQual</th>\n",
       "      <th>OverallCond</th>\n",
       "      <th>YearBuilt</th>\n",
       "      <th>YearRemodAdd</th>\n",
       "      <th>MasVnrArea</th>\n",
       "      <th>BsmtFinSF1</th>\n",
       "      <th>...</th>\n",
       "      <th>WoodDeckSF</th>\n",
       "      <th>OpenPorchSF</th>\n",
       "      <th>EnclosedPorch</th>\n",
       "      <th>3SsnPorch</th>\n",
       "      <th>ScreenPorch</th>\n",
       "      <th>PoolArea</th>\n",
       "      <th>MiscVal</th>\n",
       "      <th>MoSold</th>\n",
       "      <th>YrSold</th>\n",
       "      <th>SalePrice</th>\n",
       "    </tr>\n",
       "  </thead>\n",
       "  <tbody>\n",
       "    <tr>\n",
       "      <th>count</th>\n",
       "      <td>1460.000000</td>\n",
       "      <td>1460.000000</td>\n",
       "      <td>1201.000000</td>\n",
       "      <td>1460.000000</td>\n",
       "      <td>1460.000000</td>\n",
       "      <td>1460.000000</td>\n",
       "      <td>1460.000000</td>\n",
       "      <td>1460.000000</td>\n",
       "      <td>1452.000000</td>\n",
       "      <td>1460.000000</td>\n",
       "      <td>...</td>\n",
       "      <td>1460.000000</td>\n",
       "      <td>1460.000000</td>\n",
       "      <td>1460.000000</td>\n",
       "      <td>1460.000000</td>\n",
       "      <td>1460.000000</td>\n",
       "      <td>1460.000000</td>\n",
       "      <td>1460.000000</td>\n",
       "      <td>1460.000000</td>\n",
       "      <td>1460.000000</td>\n",
       "      <td>1460.000000</td>\n",
       "    </tr>\n",
       "    <tr>\n",
       "      <th>mean</th>\n",
       "      <td>730.500000</td>\n",
       "      <td>56.897260</td>\n",
       "      <td>70.049958</td>\n",
       "      <td>10516.828082</td>\n",
       "      <td>6.099315</td>\n",
       "      <td>5.575342</td>\n",
       "      <td>1971.267808</td>\n",
       "      <td>1984.865753</td>\n",
       "      <td>103.685262</td>\n",
       "      <td>443.639726</td>\n",
       "      <td>...</td>\n",
       "      <td>94.244521</td>\n",
       "      <td>46.660274</td>\n",
       "      <td>21.954110</td>\n",
       "      <td>3.409589</td>\n",
       "      <td>15.060959</td>\n",
       "      <td>2.758904</td>\n",
       "      <td>43.489041</td>\n",
       "      <td>6.321918</td>\n",
       "      <td>2007.815753</td>\n",
       "      <td>180921.195890</td>\n",
       "    </tr>\n",
       "    <tr>\n",
       "      <th>std</th>\n",
       "      <td>421.610009</td>\n",
       "      <td>42.300571</td>\n",
       "      <td>24.284752</td>\n",
       "      <td>9981.264932</td>\n",
       "      <td>1.382997</td>\n",
       "      <td>1.112799</td>\n",
       "      <td>30.202904</td>\n",
       "      <td>20.645407</td>\n",
       "      <td>181.066207</td>\n",
       "      <td>456.098091</td>\n",
       "      <td>...</td>\n",
       "      <td>125.338794</td>\n",
       "      <td>66.256028</td>\n",
       "      <td>61.119149</td>\n",
       "      <td>29.317331</td>\n",
       "      <td>55.757415</td>\n",
       "      <td>40.177307</td>\n",
       "      <td>496.123024</td>\n",
       "      <td>2.703626</td>\n",
       "      <td>1.328095</td>\n",
       "      <td>79442.502883</td>\n",
       "    </tr>\n",
       "    <tr>\n",
       "      <th>min</th>\n",
       "      <td>1.000000</td>\n",
       "      <td>20.000000</td>\n",
       "      <td>21.000000</td>\n",
       "      <td>1300.000000</td>\n",
       "      <td>1.000000</td>\n",
       "      <td>1.000000</td>\n",
       "      <td>1872.000000</td>\n",
       "      <td>1950.000000</td>\n",
       "      <td>0.000000</td>\n",
       "      <td>0.000000</td>\n",
       "      <td>...</td>\n",
       "      <td>0.000000</td>\n",
       "      <td>0.000000</td>\n",
       "      <td>0.000000</td>\n",
       "      <td>0.000000</td>\n",
       "      <td>0.000000</td>\n",
       "      <td>0.000000</td>\n",
       "      <td>0.000000</td>\n",
       "      <td>1.000000</td>\n",
       "      <td>2006.000000</td>\n",
       "      <td>34900.000000</td>\n",
       "    </tr>\n",
       "    <tr>\n",
       "      <th>25%</th>\n",
       "      <td>365.750000</td>\n",
       "      <td>20.000000</td>\n",
       "      <td>59.000000</td>\n",
       "      <td>7553.500000</td>\n",
       "      <td>5.000000</td>\n",
       "      <td>5.000000</td>\n",
       "      <td>1954.000000</td>\n",
       "      <td>1967.000000</td>\n",
       "      <td>0.000000</td>\n",
       "      <td>0.000000</td>\n",
       "      <td>...</td>\n",
       "      <td>0.000000</td>\n",
       "      <td>0.000000</td>\n",
       "      <td>0.000000</td>\n",
       "      <td>0.000000</td>\n",
       "      <td>0.000000</td>\n",
       "      <td>0.000000</td>\n",
       "      <td>0.000000</td>\n",
       "      <td>5.000000</td>\n",
       "      <td>2007.000000</td>\n",
       "      <td>129975.000000</td>\n",
       "    </tr>\n",
       "    <tr>\n",
       "      <th>50%</th>\n",
       "      <td>730.500000</td>\n",
       "      <td>50.000000</td>\n",
       "      <td>69.000000</td>\n",
       "      <td>9478.500000</td>\n",
       "      <td>6.000000</td>\n",
       "      <td>5.000000</td>\n",
       "      <td>1973.000000</td>\n",
       "      <td>1994.000000</td>\n",
       "      <td>0.000000</td>\n",
       "      <td>383.500000</td>\n",
       "      <td>...</td>\n",
       "      <td>0.000000</td>\n",
       "      <td>25.000000</td>\n",
       "      <td>0.000000</td>\n",
       "      <td>0.000000</td>\n",
       "      <td>0.000000</td>\n",
       "      <td>0.000000</td>\n",
       "      <td>0.000000</td>\n",
       "      <td>6.000000</td>\n",
       "      <td>2008.000000</td>\n",
       "      <td>163000.000000</td>\n",
       "    </tr>\n",
       "    <tr>\n",
       "      <th>75%</th>\n",
       "      <td>1095.250000</td>\n",
       "      <td>70.000000</td>\n",
       "      <td>80.000000</td>\n",
       "      <td>11601.500000</td>\n",
       "      <td>7.000000</td>\n",
       "      <td>6.000000</td>\n",
       "      <td>2000.000000</td>\n",
       "      <td>2004.000000</td>\n",
       "      <td>166.000000</td>\n",
       "      <td>712.250000</td>\n",
       "      <td>...</td>\n",
       "      <td>168.000000</td>\n",
       "      <td>68.000000</td>\n",
       "      <td>0.000000</td>\n",
       "      <td>0.000000</td>\n",
       "      <td>0.000000</td>\n",
       "      <td>0.000000</td>\n",
       "      <td>0.000000</td>\n",
       "      <td>8.000000</td>\n",
       "      <td>2009.000000</td>\n",
       "      <td>214000.000000</td>\n",
       "    </tr>\n",
       "    <tr>\n",
       "      <th>max</th>\n",
       "      <td>1460.000000</td>\n",
       "      <td>190.000000</td>\n",
       "      <td>313.000000</td>\n",
       "      <td>215245.000000</td>\n",
       "      <td>10.000000</td>\n",
       "      <td>9.000000</td>\n",
       "      <td>2010.000000</td>\n",
       "      <td>2010.000000</td>\n",
       "      <td>1600.000000</td>\n",
       "      <td>5644.000000</td>\n",
       "      <td>...</td>\n",
       "      <td>857.000000</td>\n",
       "      <td>547.000000</td>\n",
       "      <td>552.000000</td>\n",
       "      <td>508.000000</td>\n",
       "      <td>480.000000</td>\n",
       "      <td>738.000000</td>\n",
       "      <td>15500.000000</td>\n",
       "      <td>12.000000</td>\n",
       "      <td>2010.000000</td>\n",
       "      <td>755000.000000</td>\n",
       "    </tr>\n",
       "  </tbody>\n",
       "</table>\n",
       "<p>8 rows × 38 columns</p>\n",
       "</div>"
      ],
      "text/plain": [
       "                Id   MSSubClass  LotFrontage        LotArea  OverallQual  \\\n",
       "count  1460.000000  1460.000000  1201.000000    1460.000000  1460.000000   \n",
       "mean    730.500000    56.897260    70.049958   10516.828082     6.099315   \n",
       "std     421.610009    42.300571    24.284752    9981.264932     1.382997   \n",
       "min       1.000000    20.000000    21.000000    1300.000000     1.000000   \n",
       "25%     365.750000    20.000000    59.000000    7553.500000     5.000000   \n",
       "50%     730.500000    50.000000    69.000000    9478.500000     6.000000   \n",
       "75%    1095.250000    70.000000    80.000000   11601.500000     7.000000   \n",
       "max    1460.000000   190.000000   313.000000  215245.000000    10.000000   \n",
       "\n",
       "       OverallCond    YearBuilt  YearRemodAdd   MasVnrArea   BsmtFinSF1  \\\n",
       "count  1460.000000  1460.000000   1460.000000  1452.000000  1460.000000   \n",
       "mean      5.575342  1971.267808   1984.865753   103.685262   443.639726   \n",
       "std       1.112799    30.202904     20.645407   181.066207   456.098091   \n",
       "min       1.000000  1872.000000   1950.000000     0.000000     0.000000   \n",
       "25%       5.000000  1954.000000   1967.000000     0.000000     0.000000   \n",
       "50%       5.000000  1973.000000   1994.000000     0.000000   383.500000   \n",
       "75%       6.000000  2000.000000   2004.000000   166.000000   712.250000   \n",
       "max       9.000000  2010.000000   2010.000000  1600.000000  5644.000000   \n",
       "\n",
       "           ...         WoodDeckSF  OpenPorchSF  EnclosedPorch    3SsnPorch  \\\n",
       "count      ...        1460.000000  1460.000000    1460.000000  1460.000000   \n",
       "mean       ...          94.244521    46.660274      21.954110     3.409589   \n",
       "std        ...         125.338794    66.256028      61.119149    29.317331   \n",
       "min        ...           0.000000     0.000000       0.000000     0.000000   \n",
       "25%        ...           0.000000     0.000000       0.000000     0.000000   \n",
       "50%        ...           0.000000    25.000000       0.000000     0.000000   \n",
       "75%        ...         168.000000    68.000000       0.000000     0.000000   \n",
       "max        ...         857.000000   547.000000     552.000000   508.000000   \n",
       "\n",
       "       ScreenPorch     PoolArea       MiscVal       MoSold       YrSold  \\\n",
       "count  1460.000000  1460.000000   1460.000000  1460.000000  1460.000000   \n",
       "mean     15.060959     2.758904     43.489041     6.321918  2007.815753   \n",
       "std      55.757415    40.177307    496.123024     2.703626     1.328095   \n",
       "min       0.000000     0.000000      0.000000     1.000000  2006.000000   \n",
       "25%       0.000000     0.000000      0.000000     5.000000  2007.000000   \n",
       "50%       0.000000     0.000000      0.000000     6.000000  2008.000000   \n",
       "75%       0.000000     0.000000      0.000000     8.000000  2009.000000   \n",
       "max     480.000000   738.000000  15500.000000    12.000000  2010.000000   \n",
       "\n",
       "           SalePrice  \n",
       "count    1460.000000  \n",
       "mean   180921.195890  \n",
       "std     79442.502883  \n",
       "min     34900.000000  \n",
       "25%    129975.000000  \n",
       "50%    163000.000000  \n",
       "75%    214000.000000  \n",
       "max    755000.000000  \n",
       "\n",
       "[8 rows x 38 columns]"
      ]
     },
     "execution_count": 5,
     "metadata": {},
     "output_type": "execute_result"
    }
   ],
   "source": [
    "# Generates descriptive statistics that summarize the central tendency, \n",
    "#dispersion and shape of a dataset's distribution, excluding ``NaN`` values.\n",
    "df_train.describe() "
   ]
  },
  {
   "cell_type": "code",
   "execution_count": 6,
   "metadata": {},
   "outputs": [
    {
     "data": {
      "text/html": [
       "<div>\n",
       "<style scoped>\n",
       "    .dataframe tbody tr th:only-of-type {\n",
       "        vertical-align: middle;\n",
       "    }\n",
       "\n",
       "    .dataframe tbody tr th {\n",
       "        vertical-align: top;\n",
       "    }\n",
       "\n",
       "    .dataframe thead th {\n",
       "        text-align: right;\n",
       "    }\n",
       "</style>\n",
       "<table border=\"1\" class=\"dataframe\">\n",
       "  <thead>\n",
       "    <tr style=\"text-align: right;\">\n",
       "      <th></th>\n",
       "      <th>MSSubClass</th>\n",
       "      <th>MSZoning</th>\n",
       "      <th>LotFrontage</th>\n",
       "      <th>LotArea</th>\n",
       "      <th>Street</th>\n",
       "      <th>Alley</th>\n",
       "      <th>LotShape</th>\n",
       "      <th>LandContour</th>\n",
       "      <th>Utilities</th>\n",
       "      <th>LotConfig</th>\n",
       "      <th>...</th>\n",
       "      <th>ScreenPorch</th>\n",
       "      <th>PoolArea</th>\n",
       "      <th>PoolQC</th>\n",
       "      <th>Fence</th>\n",
       "      <th>MiscFeature</th>\n",
       "      <th>MiscVal</th>\n",
       "      <th>MoSold</th>\n",
       "      <th>YrSold</th>\n",
       "      <th>SaleType</th>\n",
       "      <th>SaleCondition</th>\n",
       "    </tr>\n",
       "    <tr>\n",
       "      <th>Id</th>\n",
       "      <th></th>\n",
       "      <th></th>\n",
       "      <th></th>\n",
       "      <th></th>\n",
       "      <th></th>\n",
       "      <th></th>\n",
       "      <th></th>\n",
       "      <th></th>\n",
       "      <th></th>\n",
       "      <th></th>\n",
       "      <th></th>\n",
       "      <th></th>\n",
       "      <th></th>\n",
       "      <th></th>\n",
       "      <th></th>\n",
       "      <th></th>\n",
       "      <th></th>\n",
       "      <th></th>\n",
       "      <th></th>\n",
       "      <th></th>\n",
       "      <th></th>\n",
       "    </tr>\n",
       "  </thead>\n",
       "  <tbody>\n",
       "    <tr>\n",
       "      <th>1461</th>\n",
       "      <td>20</td>\n",
       "      <td>RH</td>\n",
       "      <td>80.0</td>\n",
       "      <td>11622</td>\n",
       "      <td>Pave</td>\n",
       "      <td>NaN</td>\n",
       "      <td>Reg</td>\n",
       "      <td>Lvl</td>\n",
       "      <td>AllPub</td>\n",
       "      <td>Inside</td>\n",
       "      <td>...</td>\n",
       "      <td>120</td>\n",
       "      <td>0</td>\n",
       "      <td>NaN</td>\n",
       "      <td>MnPrv</td>\n",
       "      <td>NaN</td>\n",
       "      <td>0</td>\n",
       "      <td>6</td>\n",
       "      <td>2010</td>\n",
       "      <td>WD</td>\n",
       "      <td>Normal</td>\n",
       "    </tr>\n",
       "    <tr>\n",
       "      <th>1462</th>\n",
       "      <td>20</td>\n",
       "      <td>RL</td>\n",
       "      <td>81.0</td>\n",
       "      <td>14267</td>\n",
       "      <td>Pave</td>\n",
       "      <td>NaN</td>\n",
       "      <td>IR1</td>\n",
       "      <td>Lvl</td>\n",
       "      <td>AllPub</td>\n",
       "      <td>Corner</td>\n",
       "      <td>...</td>\n",
       "      <td>0</td>\n",
       "      <td>0</td>\n",
       "      <td>NaN</td>\n",
       "      <td>NaN</td>\n",
       "      <td>Gar2</td>\n",
       "      <td>12500</td>\n",
       "      <td>6</td>\n",
       "      <td>2010</td>\n",
       "      <td>WD</td>\n",
       "      <td>Normal</td>\n",
       "    </tr>\n",
       "  </tbody>\n",
       "</table>\n",
       "<p>2 rows × 79 columns</p>\n",
       "</div>"
      ],
      "text/plain": [
       "      MSSubClass MSZoning  LotFrontage  LotArea Street Alley LotShape  \\\n",
       "Id                                                                      \n",
       "1461          20       RH         80.0    11622   Pave   NaN      Reg   \n",
       "1462          20       RL         81.0    14267   Pave   NaN      IR1   \n",
       "\n",
       "     LandContour Utilities LotConfig      ...       ScreenPorch PoolArea  \\\n",
       "Id                                        ...                              \n",
       "1461         Lvl    AllPub    Inside      ...               120        0   \n",
       "1462         Lvl    AllPub    Corner      ...                 0        0   \n",
       "\n",
       "     PoolQC  Fence MiscFeature MiscVal  MoSold  YrSold  SaleType  \\\n",
       "Id                                                                 \n",
       "1461    NaN  MnPrv         NaN       0       6    2010        WD   \n",
       "1462    NaN    NaN        Gar2   12500       6    2010        WD   \n",
       "\n",
       "      SaleCondition  \n",
       "Id                   \n",
       "1461         Normal  \n",
       "1462         Normal  \n",
       "\n",
       "[2 rows x 79 columns]"
      ]
     },
     "execution_count": 6,
     "metadata": {},
     "output_type": "execute_result"
    }
   ],
   "source": [
    "df_test=pd.read_csv('data/test.csv')\n",
    "df_test.set_index('Id',inplace=True)\n",
    "df_test.head(2)"
   ]
  },
  {
   "cell_type": "code",
   "execution_count": 7,
   "metadata": {},
   "outputs": [
    {
     "data": {
      "text/plain": [
       "(1459, 79)"
      ]
     },
     "execution_count": 7,
     "metadata": {},
     "output_type": "execute_result"
    }
   ],
   "source": [
    "df_test.shape"
   ]
  },
  {
   "cell_type": "code",
   "execution_count": 8,
   "metadata": {},
   "outputs": [
    {
     "data": {
      "text/plain": [
       "Index(['Id', 'MSSubClass', 'MSZoning', 'LotFrontage', 'LotArea', 'Street',\n",
       "       'Alley', 'LotShape', 'LandContour', 'Utilities', 'LotConfig',\n",
       "       'LandSlope', 'Neighborhood', 'Condition1', 'Condition2', 'BldgType',\n",
       "       'HouseStyle', 'OverallQual', 'OverallCond', 'YearBuilt', 'YearRemodAdd',\n",
       "       'RoofStyle', 'RoofMatl', 'Exterior1st', 'Exterior2nd', 'MasVnrType',\n",
       "       'MasVnrArea', 'ExterQual', 'ExterCond', 'Foundation', 'BsmtQual',\n",
       "       'BsmtCond', 'BsmtExposure', 'BsmtFinType1', 'BsmtFinSF1',\n",
       "       'BsmtFinType2', 'BsmtFinSF2', 'BsmtUnfSF', 'TotalBsmtSF', 'Heating',\n",
       "       'HeatingQC', 'CentralAir', 'Electrical', '1stFlrSF', '2ndFlrSF',\n",
       "       'LowQualFinSF', 'GrLivArea', 'BsmtFullBath', 'BsmtHalfBath', 'FullBath',\n",
       "       'HalfBath', 'BedroomAbvGr', 'KitchenAbvGr', 'KitchenQual',\n",
       "       'TotRmsAbvGrd', 'Functional', 'Fireplaces', 'FireplaceQu', 'GarageType',\n",
       "       'GarageYrBlt', 'GarageFinish', 'GarageCars', 'GarageArea', 'GarageQual',\n",
       "       'GarageCond', 'PavedDrive', 'WoodDeckSF', 'OpenPorchSF',\n",
       "       'EnclosedPorch', '3SsnPorch', 'ScreenPorch', 'PoolArea', 'PoolQC',\n",
       "       'Fence', 'MiscFeature', 'MiscVal', 'MoSold', 'YrSold', 'SaleType',\n",
       "       'SaleCondition', 'SalePrice'],\n",
       "      dtype='object')"
      ]
     },
     "execution_count": 8,
     "metadata": {},
     "output_type": "execute_result"
    }
   ],
   "source": [
    "df_train.columns"
   ]
  },
  {
   "cell_type": "markdown",
   "metadata": {},
   "source": [
    "# Familar with the data"
   ]
  },
  {
   "cell_type": "code",
   "execution_count": 9,
   "metadata": {},
   "outputs": [
    {
     "data": {
      "text/plain": [
       "<matplotlib.axes._subplots.AxesSubplot at 0x10d330588>"
      ]
     },
     "execution_count": 9,
     "metadata": {},
     "output_type": "execute_result"
    },
    {
     "data": {
      "image/png": "[encoded data removed]",
      "text/plain": [
       "<Figure size 432x288 with 1 Axes>"
      ]
     },
     "metadata": {},
     "output_type": "display_data"
    }
   ],
   "source": [
    "sns.boxplot(x='OverallQual', y=\"SalePrice\", data=df_train)"
   ]
  },
  {
   "cell_type": "code",
   "execution_count": 10,
   "metadata": {},
   "outputs": [
    {
     "data": {
      "text/plain": [
       "<matplotlib.axes._subplots.AxesSubplot at 0x11086b898>"
      ]
     },
     "execution_count": 10,
     "metadata": {},
     "output_type": "execute_result"
    },
    {
     "data": {
      "image/png": "[encoded data removed]",
      "text/plain": [
       "<Figure size 432x288 with 1 Axes>"
      ]
     },
     "metadata": {},
     "output_type": "display_data"
    }
   ],
   "source": [
    "df_train.plot(kind='scatter',x='GarageArea',y=\"SalePrice\")"
   ]
  },
  {
   "cell_type": "markdown",
   "metadata": {},
   "source": [
    "# Heapmap showing the correlation matrix"
   ]
  },
  {
   "cell_type": "markdown",
   "metadata": {},
   "source": [
    "**df_train.corr()**: Compute pairwise correlation of columns, excluding NA/null values"
   ]
  },
  {
   "cell_type": "code",
   "execution_count": 11,
   "metadata": {},
   "outputs": [
    {
     "data": {
      "text/plain": [
       "<matplotlib.axes._subplots.AxesSubplot at 0x10d323fd0>"
      ]
     },
     "execution_count": 11,
     "metadata": {},
     "output_type": "execute_result"
    },
    {
     "data": {
      "image/png": "[encoded data removed]",
      "text/plain": [
       "<Figure size 1008x1008 with 2 Axes>"
      ]
     },
     "metadata": {},
     "output_type": "display_data"
    }
   ],
   "source": [
    "plt.figure(figsize=(14,14))\n",
    "corr=df_train.corr()\n",
    "sns.heatmap(corr)"
   ]
  },
  {
   "cell_type": "markdown",
   "metadata": {},
   "source": [
    "# Extract the  features relevant  to the SalePrice"
   ]
  },
  {
   "cell_type": "code",
   "execution_count": 12,
   "metadata": {},
   "outputs": [
    {
     "data": {
      "text/plain": [
       "<matplotlib.axes._subplots.AxesSubplot at 0x1a1ffb2b70>"
      ]
     },
     "execution_count": 12,
     "metadata": {},
     "output_type": "execute_result"
    },
    {
     "data": {
      "image/png": "[encoded data removed]",
      "text/plain": [
       "<Figure size 1008x576 with 1 Axes>"
      ]
     },
     "metadata": {},
     "output_type": "display_data"
    }
   ],
   "source": [
    "df_corr_SalePrice=df_train.corr().tail(1).T\n",
    "df_corr_SalePrice.sort_values(by='SalePrice',inplace=True)\n",
    "df_corr_SalePrice.plot(kind='bar',y='SalePrice',figsize=(14,8),fontsize=14)"
   ]
  },
  {
   "cell_type": "code",
   "execution_count": 13,
   "metadata": {},
   "outputs": [
    {
     "data": {
      "text/plain": [
       "['Fireplaces',\n",
       " 'MasVnrArea',\n",
       " 'GarageYrBlt',\n",
       " 'YearRemodAdd',\n",
       " 'YearBuilt',\n",
       " 'TotRmsAbvGrd',\n",
       " 'FullBath',\n",
       " '1stFlrSF',\n",
       " 'TotalBsmtSF',\n",
       " 'GarageArea',\n",
       " 'GarageCars',\n",
       " 'GrLivArea',\n",
       " 'OverallQual',\n",
       " 'SalePrice']"
      ]
     },
     "execution_count": 13,
     "metadata": {},
     "output_type": "execute_result"
    }
   ],
   "source": [
    "features_all_corr04=list(df_corr_SalePrice[df_corr_SalePrice['SalePrice']>0.4].T.columns)\n",
    "features_all_corr04"
   ]
  },
  {
   "cell_type": "code",
   "execution_count": 14,
   "metadata": {},
   "outputs": [
    {
     "data": {
      "text/plain": [
       "['Fireplaces',\n",
       " 'MasVnrArea',\n",
       " 'GarageYrBlt',\n",
       " 'YearRemodAdd',\n",
       " 'YearBuilt',\n",
       " 'TotRmsAbvGrd',\n",
       " 'FullBath',\n",
       " '1stFlrSF',\n",
       " 'TotalBsmtSF',\n",
       " 'GarageArea',\n",
       " 'GarageCars',\n",
       " 'GrLivArea',\n",
       " 'OverallQual']"
      ]
     },
     "execution_count": 14,
     "metadata": {},
     "output_type": "execute_result"
    }
   ],
   "source": [
    "features_corr04=features_all_corr04[0:len(features_all_corr04)-1]\n",
    "features_corr04"
   ]
  },
  {
   "cell_type": "code",
   "execution_count": 15,
   "metadata": {},
   "outputs": [
    {
     "data": {
      "text/plain": [
       "['YearRemodAdd',\n",
       " 'YearBuilt',\n",
       " 'TotRmsAbvGrd',\n",
       " 'FullBath',\n",
       " '1stFlrSF',\n",
       " 'TotalBsmtSF',\n",
       " 'GarageArea',\n",
       " 'GarageCars',\n",
       " 'GrLivArea',\n",
       " 'OverallQual',\n",
       " 'SalePrice']"
      ]
     },
     "execution_count": 15,
     "metadata": {},
     "output_type": "execute_result"
    }
   ],
   "source": [
    "features_all_corr05=list(df_corr_SalePrice[df_corr_SalePrice['SalePrice']>0.5].T.columns)\n",
    "features_all_corr05"
   ]
  },
  {
   "cell_type": "code",
   "execution_count": 16,
   "metadata": {},
   "outputs": [
    {
     "data": {
      "text/plain": [
       "['YearRemodAdd',\n",
       " 'YearBuilt',\n",
       " 'TotRmsAbvGrd',\n",
       " 'FullBath',\n",
       " '1stFlrSF',\n",
       " 'TotalBsmtSF',\n",
       " 'GarageArea',\n",
       " 'GarageCars',\n",
       " 'GrLivArea',\n",
       " 'OverallQual']"
      ]
     },
     "execution_count": 16,
     "metadata": {},
     "output_type": "execute_result"
    }
   ],
   "source": [
    "features_corr05=features_all_corr05[0:len(features_all_corr05)-1]\n",
    "features_corr05"
   ]
  },
  {
   "cell_type": "markdown",
   "metadata": {},
   "source": [
    "# Data cleaning and replacing missing data "
   ]
  },
  {
   "cell_type": "code",
   "execution_count": 17,
   "metadata": {},
   "outputs": [
    {
     "data": {
      "text/plain": [
       "<matplotlib.axes._subplots.AxesSubplot at 0x1a200aef98>"
      ]
     },
     "execution_count": 17,
     "metadata": {},
     "output_type": "execute_result"
    },
    {
     "data": {
      "image/png": "[encoded data removed]",
      "text/plain": [
       "<Figure size 1008x576 with 1 Axes>"
      ]
     },
     "metadata": {},
     "output_type": "display_data"
    }
   ],
   "source": [
    "#missing data\n",
    "total = df_train.isnull().sum().sort_values(ascending=False)\n",
    "percent = (df_train.isnull().sum()/df_train.isnull().count()).sort_values(ascending=False)\n",
    "missing_data = pd.concat([total, percent], axis=1, keys=['Total', 'Percent'])\n",
    "missing_data20=missing_data.head(20)\n",
    "missing_data20.plot(kind='bar',y='Total',figsize=(14,8),fontsize=20)"
   ]
  },
  {
   "cell_type": "code",
   "execution_count": 18,
   "metadata": {},
   "outputs": [
    {
     "data": {
      "text/plain": [
       "(1460, 75)"
      ]
     },
     "execution_count": 18,
     "metadata": {},
     "output_type": "execute_result"
    }
   ],
   "source": [
    "df_train_drop100=df_train.drop((missing_data[missing_data['Total'] > 100]).index,1)\n",
    "df_train_drop100.shape "
   ]
  },
  {
   "cell_type": "markdown",
   "metadata": {},
   "source": [
    "# Prepare training data with features and target"
   ]
  },
  {
   "cell_type": "markdown",
   "metadata": {},
   "source": [
    "- using the data with the features \"features_all_corr05\", there is no NAN.\n",
    "- using the data with the features \"features_all_corr04\", there is 81 NAN."
   ]
  },
  {
   "cell_type": "code",
   "execution_count": 19,
   "metadata": {},
   "outputs": [
    {
     "data": {
      "text/html": [
       "<div>\n",
       "<style scoped>\n",
       "    .dataframe tbody tr th:only-of-type {\n",
       "        vertical-align: middle;\n",
       "    }\n",
       "\n",
       "    .dataframe tbody tr th {\n",
       "        vertical-align: top;\n",
       "    }\n",
       "\n",
       "    .dataframe thead th {\n",
       "        text-align: right;\n",
       "    }\n",
       "</style>\n",
       "<table border=\"1\" class=\"dataframe\">\n",
       "  <thead>\n",
       "    <tr style=\"text-align: right;\">\n",
       "      <th></th>\n",
       "      <th>YearRemodAdd</th>\n",
       "      <th>YearBuilt</th>\n",
       "      <th>TotRmsAbvGrd</th>\n",
       "      <th>FullBath</th>\n",
       "      <th>1stFlrSF</th>\n",
       "      <th>TotalBsmtSF</th>\n",
       "      <th>GarageArea</th>\n",
       "      <th>GarageCars</th>\n",
       "      <th>GrLivArea</th>\n",
       "      <th>OverallQual</th>\n",
       "      <th>SalePrice</th>\n",
       "    </tr>\n",
       "  </thead>\n",
       "  <tbody>\n",
       "    <tr>\n",
       "      <th>0</th>\n",
       "      <td>2003</td>\n",
       "      <td>2003</td>\n",
       "      <td>8</td>\n",
       "      <td>2</td>\n",
       "      <td>856</td>\n",
       "      <td>856</td>\n",
       "      <td>548</td>\n",
       "      <td>2</td>\n",
       "      <td>1710</td>\n",
       "      <td>7</td>\n",
       "      <td>208500</td>\n",
       "    </tr>\n",
       "    <tr>\n",
       "      <th>1</th>\n",
       "      <td>1976</td>\n",
       "      <td>1976</td>\n",
       "      <td>6</td>\n",
       "      <td>2</td>\n",
       "      <td>1262</td>\n",
       "      <td>1262</td>\n",
       "      <td>460</td>\n",
       "      <td>2</td>\n",
       "      <td>1262</td>\n",
       "      <td>6</td>\n",
       "      <td>181500</td>\n",
       "    </tr>\n",
       "    <tr>\n",
       "      <th>2</th>\n",
       "      <td>2002</td>\n",
       "      <td>2001</td>\n",
       "      <td>6</td>\n",
       "      <td>2</td>\n",
       "      <td>920</td>\n",
       "      <td>920</td>\n",
       "      <td>608</td>\n",
       "      <td>2</td>\n",
       "      <td>1786</td>\n",
       "      <td>7</td>\n",
       "      <td>223500</td>\n",
       "    </tr>\n",
       "    <tr>\n",
       "      <th>3</th>\n",
       "      <td>1970</td>\n",
       "      <td>1915</td>\n",
       "      <td>7</td>\n",
       "      <td>1</td>\n",
       "      <td>961</td>\n",
       "      <td>756</td>\n",
       "      <td>642</td>\n",
       "      <td>3</td>\n",
       "      <td>1717</td>\n",
       "      <td>7</td>\n",
       "      <td>140000</td>\n",
       "    </tr>\n",
       "    <tr>\n",
       "      <th>4</th>\n",
       "      <td>2000</td>\n",
       "      <td>2000</td>\n",
       "      <td>9</td>\n",
       "      <td>2</td>\n",
       "      <td>1145</td>\n",
       "      <td>1145</td>\n",
       "      <td>836</td>\n",
       "      <td>3</td>\n",
       "      <td>2198</td>\n",
       "      <td>8</td>\n",
       "      <td>250000</td>\n",
       "    </tr>\n",
       "  </tbody>\n",
       "</table>\n",
       "</div>"
      ],
      "text/plain": [
       "   YearRemodAdd  YearBuilt  TotRmsAbvGrd  FullBath  1stFlrSF  TotalBsmtSF  \\\n",
       "0          2003       2003             8         2       856          856   \n",
       "1          1976       1976             6         2      1262         1262   \n",
       "2          2002       2001             6         2       920          920   \n",
       "3          1970       1915             7         1       961          756   \n",
       "4          2000       2000             9         2      1145         1145   \n",
       "\n",
       "   GarageArea  GarageCars  GrLivArea  OverallQual  SalePrice  \n",
       "0         548           2       1710            7     208500  \n",
       "1         460           2       1262            6     181500  \n",
       "2         608           2       1786            7     223500  \n",
       "3         642           3       1717            7     140000  \n",
       "4         836           3       2198            8     250000  "
      ]
     },
     "execution_count": 19,
     "metadata": {},
     "output_type": "execute_result"
    }
   ],
   "source": [
    "df_train_features=df_train_drop100[features_all_corr05]\n",
    "df_train_features.head()"
   ]
  },
  {
   "cell_type": "code",
   "execution_count": 20,
   "metadata": {},
   "outputs": [
    {
     "data": {
      "text/plain": [
       "0"
      ]
     },
     "execution_count": 20,
     "metadata": {},
     "output_type": "execute_result"
    }
   ],
   "source": [
    "df_train_features.isnull().sum().max()"
   ]
  },
  {
   "cell_type": "markdown",
   "metadata": {},
   "source": [
    "# Prepare Test Data"
   ]
  },
  {
   "cell_type": "code",
   "execution_count": 21,
   "metadata": {
    "scrolled": true
   },
   "outputs": [
    {
     "data": {
      "text/html": [
       "<div>\n",
       "<style scoped>\n",
       "    .dataframe tbody tr th:only-of-type {\n",
       "        vertical-align: middle;\n",
       "    }\n",
       "\n",
       "    .dataframe tbody tr th {\n",
       "        vertical-align: top;\n",
       "    }\n",
       "\n",
       "    .dataframe thead th {\n",
       "        text-align: right;\n",
       "    }\n",
       "</style>\n",
       "<table border=\"1\" class=\"dataframe\">\n",
       "  <thead>\n",
       "    <tr style=\"text-align: right;\">\n",
       "      <th></th>\n",
       "      <th>YearRemodAdd</th>\n",
       "      <th>YearBuilt</th>\n",
       "      <th>TotRmsAbvGrd</th>\n",
       "      <th>FullBath</th>\n",
       "      <th>1stFlrSF</th>\n",
       "      <th>TotalBsmtSF</th>\n",
       "      <th>GarageArea</th>\n",
       "      <th>GarageCars</th>\n",
       "      <th>GrLivArea</th>\n",
       "      <th>OverallQual</th>\n",
       "    </tr>\n",
       "    <tr>\n",
       "      <th>Id</th>\n",
       "      <th></th>\n",
       "      <th></th>\n",
       "      <th></th>\n",
       "      <th></th>\n",
       "      <th></th>\n",
       "      <th></th>\n",
       "      <th></th>\n",
       "      <th></th>\n",
       "      <th></th>\n",
       "      <th></th>\n",
       "    </tr>\n",
       "  </thead>\n",
       "  <tbody>\n",
       "    <tr>\n",
       "      <th>1461</th>\n",
       "      <td>1961</td>\n",
       "      <td>1961</td>\n",
       "      <td>5</td>\n",
       "      <td>1</td>\n",
       "      <td>896</td>\n",
       "      <td>882.0</td>\n",
       "      <td>730.0</td>\n",
       "      <td>1.0</td>\n",
       "      <td>896</td>\n",
       "      <td>5</td>\n",
       "    </tr>\n",
       "    <tr>\n",
       "      <th>1462</th>\n",
       "      <td>1958</td>\n",
       "      <td>1958</td>\n",
       "      <td>6</td>\n",
       "      <td>1</td>\n",
       "      <td>1329</td>\n",
       "      <td>1329.0</td>\n",
       "      <td>312.0</td>\n",
       "      <td>1.0</td>\n",
       "      <td>1329</td>\n",
       "      <td>6</td>\n",
       "    </tr>\n",
       "    <tr>\n",
       "      <th>1463</th>\n",
       "      <td>1998</td>\n",
       "      <td>1997</td>\n",
       "      <td>6</td>\n",
       "      <td>2</td>\n",
       "      <td>928</td>\n",
       "      <td>928.0</td>\n",
       "      <td>482.0</td>\n",
       "      <td>2.0</td>\n",
       "      <td>1629</td>\n",
       "      <td>5</td>\n",
       "    </tr>\n",
       "    <tr>\n",
       "      <th>1464</th>\n",
       "      <td>1998</td>\n",
       "      <td>1998</td>\n",
       "      <td>7</td>\n",
       "      <td>2</td>\n",
       "      <td>926</td>\n",
       "      <td>926.0</td>\n",
       "      <td>470.0</td>\n",
       "      <td>2.0</td>\n",
       "      <td>1604</td>\n",
       "      <td>6</td>\n",
       "    </tr>\n",
       "    <tr>\n",
       "      <th>1465</th>\n",
       "      <td>1992</td>\n",
       "      <td>1992</td>\n",
       "      <td>5</td>\n",
       "      <td>2</td>\n",
       "      <td>1280</td>\n",
       "      <td>1280.0</td>\n",
       "      <td>506.0</td>\n",
       "      <td>2.0</td>\n",
       "      <td>1280</td>\n",
       "      <td>8</td>\n",
       "    </tr>\n",
       "  </tbody>\n",
       "</table>\n",
       "</div>"
      ],
      "text/plain": [
       "      YearRemodAdd  YearBuilt  TotRmsAbvGrd  FullBath  1stFlrSF  TotalBsmtSF  \\\n",
       "Id                                                                             \n",
       "1461          1961       1961             5         1       896        882.0   \n",
       "1462          1958       1958             6         1      1329       1329.0   \n",
       "1463          1998       1997             6         2       928        928.0   \n",
       "1464          1998       1998             7         2       926        926.0   \n",
       "1465          1992       1992             5         2      1280       1280.0   \n",
       "\n",
       "      GarageArea  GarageCars  GrLivArea  OverallQual  \n",
       "Id                                                    \n",
       "1461       730.0         1.0        896            5  \n",
       "1462       312.0         1.0       1329            6  \n",
       "1463       482.0         2.0       1629            5  \n",
       "1464       470.0         2.0       1604            6  \n",
       "1465       506.0         2.0       1280            8  "
      ]
     },
     "execution_count": 21,
     "metadata": {},
     "output_type": "execute_result"
    }
   ],
   "source": [
    "df_test_features=df_test[features_corr05]\n",
    "df_test_features.head()"
   ]
  },
  {
   "cell_type": "code",
   "execution_count": 22,
   "metadata": {},
   "outputs": [
    {
     "data": {
      "text/plain": [
       "1"
      ]
     },
     "execution_count": 22,
     "metadata": {},
     "output_type": "execute_result"
    }
   ],
   "source": [
    "df_test_features.isnull().sum().max()"
   ]
  },
  {
   "cell_type": "code",
   "execution_count": 23,
   "metadata": {},
   "outputs": [
    {
     "data": {
      "text/html": [
       "<div>\n",
       "<style scoped>\n",
       "    .dataframe tbody tr th:only-of-type {\n",
       "        vertical-align: middle;\n",
       "    }\n",
       "\n",
       "    .dataframe tbody tr th {\n",
       "        vertical-align: top;\n",
       "    }\n",
       "\n",
       "    .dataframe thead th {\n",
       "        text-align: right;\n",
       "    }\n",
       "</style>\n",
       "<table border=\"1\" class=\"dataframe\">\n",
       "  <thead>\n",
       "    <tr style=\"text-align: right;\">\n",
       "      <th></th>\n",
       "      <th>Total Missing</th>\n",
       "    </tr>\n",
       "  </thead>\n",
       "  <tbody>\n",
       "    <tr>\n",
       "      <th>GarageCars</th>\n",
       "      <td>1</td>\n",
       "    </tr>\n",
       "    <tr>\n",
       "      <th>GarageArea</th>\n",
       "      <td>1</td>\n",
       "    </tr>\n",
       "    <tr>\n",
       "      <th>TotalBsmtSF</th>\n",
       "      <td>1</td>\n",
       "    </tr>\n",
       "    <tr>\n",
       "      <th>OverallQual</th>\n",
       "      <td>0</td>\n",
       "    </tr>\n",
       "    <tr>\n",
       "      <th>GrLivArea</th>\n",
       "      <td>0</td>\n",
       "    </tr>\n",
       "    <tr>\n",
       "      <th>1stFlrSF</th>\n",
       "      <td>0</td>\n",
       "    </tr>\n",
       "    <tr>\n",
       "      <th>FullBath</th>\n",
       "      <td>0</td>\n",
       "    </tr>\n",
       "    <tr>\n",
       "      <th>TotRmsAbvGrd</th>\n",
       "      <td>0</td>\n",
       "    </tr>\n",
       "    <tr>\n",
       "      <th>YearBuilt</th>\n",
       "      <td>0</td>\n",
       "    </tr>\n",
       "    <tr>\n",
       "      <th>YearRemodAdd</th>\n",
       "      <td>0</td>\n",
       "    </tr>\n",
       "  </tbody>\n",
       "</table>\n",
       "</div>"
      ],
      "text/plain": [
       "              Total Missing\n",
       "GarageCars                1\n",
       "GarageArea                1\n",
       "TotalBsmtSF               1\n",
       "OverallQual               0\n",
       "GrLivArea                 0\n",
       "1stFlrSF                  0\n",
       "FullBath                  0\n",
       "TotRmsAbvGrd              0\n",
       "YearBuilt                 0\n",
       "YearRemodAdd              0"
      ]
     },
     "execution_count": 23,
     "metadata": {},
     "output_type": "execute_result"
    }
   ],
   "source": [
    "test_mising_total = df_test_features.isnull().sum().sort_values(ascending=False) \n",
    "test_missing_data = pd.concat([test_mising_total], axis=1, keys=['Total Missing'])\n",
    "test_missing_data.head(20) \n"
   ]
  },
  {
   "cell_type": "code",
   "execution_count": 24,
   "metadata": {},
   "outputs": [
    {
     "data": {
      "text/plain": [
       "['GarageCars', 'GarageArea', 'TotalBsmtSF']"
      ]
     },
     "execution_count": 24,
     "metadata": {},
     "output_type": "execute_result"
    }
   ],
   "source": [
    "replace_features=list(test_missing_data[test_missing_data['Total Missing']>0].T.columns)\n",
    "replace_features"
   ]
  },
  {
   "cell_type": "code",
   "execution_count": 25,
   "metadata": {},
   "outputs": [
    {
     "data": {
      "text/plain": [
       "0"
      ]
     },
     "execution_count": 25,
     "metadata": {},
     "output_type": "execute_result"
    }
   ],
   "source": [
    "for rep in replace_features:\n",
    "    median=df_test_features[rep].median()\n",
    "    df_test_features[rep]=df_test_features[rep].replace(np.nan,median)\n",
    "df_test_features.isnull().sum().max()"
   ]
  },
  {
   "cell_type": "markdown",
   "metadata": {},
   "source": [
    "# standardization for the target (NOT adapted)\n",
    "\n",
    "converting **SalePrice** values to have mean of 0 and a standard deviation of 1."
   ]
  },
  {
   "cell_type": "code",
   "execution_count": 26,
   "metadata": {},
   "outputs": [
    {
     "data": {
      "text/plain": [
       "(array([148., 723., 373., 135.,  51.,  19.,   4.,   3.,   2.,   2.]),\n",
       " array([ 34900., 106910., 178920., 250930., 322940., 394950., 466960.,\n",
       "        538970., 610980., 682990., 755000.]),\n",
       " <a list of 10 Patch objects>)"
      ]
     },
     "execution_count": 26,
     "metadata": {},
     "output_type": "execute_result"
    },
    {
     "data": {
      "image/png": "[encoded data removed]",
      "text/plain": [
       "<Figure size 432x288 with 1 Axes>"
      ]
     },
     "metadata": {},
     "output_type": "display_data"
    }
   ],
   "source": [
    "\n",
    "#y_train_std= StandardScaler().fit_transform(df_train_features['SalePrice'][:,np.newaxis]);\n",
    "y_train_std = df_train_features['SalePrice']\n",
    "plt.hist(y_train_std)"
   ]
  },
  {
   "cell_type": "code",
   "execution_count": 27,
   "metadata": {},
   "outputs": [
    {
     "data": {
      "text/html": [
       "<div>\n",
       "<style scoped>\n",
       "    .dataframe tbody tr th:only-of-type {\n",
       "        vertical-align: middle;\n",
       "    }\n",
       "\n",
       "    .dataframe tbody tr th {\n",
       "        vertical-align: top;\n",
       "    }\n",
       "\n",
       "    .dataframe thead th {\n",
       "        text-align: right;\n",
       "    }\n",
       "</style>\n",
       "<table border=\"1\" class=\"dataframe\">\n",
       "  <thead>\n",
       "    <tr style=\"text-align: right;\">\n",
       "      <th></th>\n",
       "      <th>YearRemodAdd</th>\n",
       "      <th>YearBuilt</th>\n",
       "      <th>TotRmsAbvGrd</th>\n",
       "      <th>FullBath</th>\n",
       "      <th>1stFlrSF</th>\n",
       "      <th>TotalBsmtSF</th>\n",
       "      <th>GarageArea</th>\n",
       "      <th>GarageCars</th>\n",
       "      <th>GrLivArea</th>\n",
       "      <th>OverallQual</th>\n",
       "    </tr>\n",
       "  </thead>\n",
       "  <tbody>\n",
       "    <tr>\n",
       "      <th>0</th>\n",
       "      <td>2003</td>\n",
       "      <td>2003</td>\n",
       "      <td>8</td>\n",
       "      <td>2</td>\n",
       "      <td>856</td>\n",
       "      <td>856</td>\n",
       "      <td>548</td>\n",
       "      <td>2</td>\n",
       "      <td>1710</td>\n",
       "      <td>7</td>\n",
       "    </tr>\n",
       "    <tr>\n",
       "      <th>1</th>\n",
       "      <td>1976</td>\n",
       "      <td>1976</td>\n",
       "      <td>6</td>\n",
       "      <td>2</td>\n",
       "      <td>1262</td>\n",
       "      <td>1262</td>\n",
       "      <td>460</td>\n",
       "      <td>2</td>\n",
       "      <td>1262</td>\n",
       "      <td>6</td>\n",
       "    </tr>\n",
       "    <tr>\n",
       "      <th>2</th>\n",
       "      <td>2002</td>\n",
       "      <td>2001</td>\n",
       "      <td>6</td>\n",
       "      <td>2</td>\n",
       "      <td>920</td>\n",
       "      <td>920</td>\n",
       "      <td>608</td>\n",
       "      <td>2</td>\n",
       "      <td>1786</td>\n",
       "      <td>7</td>\n",
       "    </tr>\n",
       "    <tr>\n",
       "      <th>3</th>\n",
       "      <td>1970</td>\n",
       "      <td>1915</td>\n",
       "      <td>7</td>\n",
       "      <td>1</td>\n",
       "      <td>961</td>\n",
       "      <td>756</td>\n",
       "      <td>642</td>\n",
       "      <td>3</td>\n",
       "      <td>1717</td>\n",
       "      <td>7</td>\n",
       "    </tr>\n",
       "    <tr>\n",
       "      <th>4</th>\n",
       "      <td>2000</td>\n",
       "      <td>2000</td>\n",
       "      <td>9</td>\n",
       "      <td>2</td>\n",
       "      <td>1145</td>\n",
       "      <td>1145</td>\n",
       "      <td>836</td>\n",
       "      <td>3</td>\n",
       "      <td>2198</td>\n",
       "      <td>8</td>\n",
       "    </tr>\n",
       "  </tbody>\n",
       "</table>\n",
       "</div>"
      ],
      "text/plain": [
       "   YearRemodAdd  YearBuilt  TotRmsAbvGrd  FullBath  1stFlrSF  TotalBsmtSF  \\\n",
       "0          2003       2003             8         2       856          856   \n",
       "1          1976       1976             6         2      1262         1262   \n",
       "2          2002       2001             6         2       920          920   \n",
       "3          1970       1915             7         1       961          756   \n",
       "4          2000       2000             9         2      1145         1145   \n",
       "\n",
       "   GarageArea  GarageCars  GrLivArea  OverallQual  \n",
       "0         548           2       1710            7  \n",
       "1         460           2       1262            6  \n",
       "2         608           2       1786            7  \n",
       "3         642           3       1717            7  \n",
       "4         836           3       2198            8  "
      ]
     },
     "execution_count": 27,
     "metadata": {},
     "output_type": "execute_result"
    }
   ],
   "source": [
    "X_train_features=df_train_features.drop(['SalePrice'],axis=1)\n",
    "X_train_features.head()"
   ]
  },
  {
   "cell_type": "markdown",
   "metadata": {},
   "source": [
    "#  Ridge Linear Regression"
   ]
  },
  {
   "cell_type": "code",
   "execution_count": 28,
   "metadata": {},
   "outputs": [],
   "source": [
    "X_train,X_test,y_train,y_test=train_test_split(X_train_features,y_train_std,test_size=0.33)"
   ]
  },
  {
   "cell_type": "code",
   "execution_count": 29,
   "metadata": {},
   "outputs": [
    {
     "name": "stdout",
     "output_type": "stream",
     "text": [
      "alpha=0.00, Train set score 0.75\n",
      "alpha=0.00, Test set score 0.81\n",
      "alpha=0.20, Train set score 0.75\n",
      "alpha=0.20, Test set score 0.81\n",
      "alpha=0.40, Train set score 0.75\n",
      "alpha=0.40, Test set score 0.81\n",
      "alpha=0.60, Train set score 0.75\n",
      "alpha=0.60, Test set score 0.81\n",
      "alpha=0.80, Train set score 0.75\n",
      "alpha=0.80, Test set score 0.81\n"
     ]
    }
   ],
   "source": [
    "for alpha in np.arange(0,1.0,0.2):\n",
    "    clf = Ridge(alpha=alpha).fit(X_train,y_train)\n",
    "    print(\"alpha={:.2f}, Train set score {:.2f}\".format(alpha,clf.score(X_train,y_train)))\n",
    "    print(\"alpha={:.2f}, Test set score {:.2f}\".format(alpha,clf.score(X_test,y_test))) "
   ]
  },
  {
   "cell_type": "markdown",
   "metadata": {},
   "source": [
    "# Lasso Linear Regression"
   ]
  },
  {
   "cell_type": "code",
   "execution_count": 30,
   "metadata": {},
   "outputs": [
    {
     "name": "stdout",
     "output_type": "stream",
     "text": [
      "alpha=0.00, Train set score 0.75\n",
      "alpha=0.00, Test set score 0.81\n",
      "alpha=0.20, Train set score 0.75\n",
      "alpha=0.20, Test set score 0.81\n",
      "alpha=0.40, Train set score 0.75\n",
      "alpha=0.40, Test set score 0.81\n",
      "alpha=0.60, Train set score 0.75\n",
      "alpha=0.60, Test set score 0.81\n",
      "alpha=0.80, Train set score 0.75\n",
      "alpha=0.80, Test set score 0.81\n"
     ]
    }
   ],
   "source": [
    "for alpha in np.arange(0,1.0,0.2):\n",
    "    clf = Lasso(alpha=alpha).fit(X_train,y_train)\n",
    "    print(\"alpha={:.2f}, Train set score {:.2f}\".format(alpha,clf.score(X_train,y_train)))\n",
    "    print(\"alpha={:.2f}, Test set score {:.2f}\".format(alpha,clf.score(X_test,y_test))) "
   ]
  },
  {
   "cell_type": "markdown",
   "metadata": {},
   "source": [
    "# Polynomial Linear Regression"
   ]
  },
  {
   "cell_type": "code",
   "execution_count": 33,
   "metadata": {},
   "outputs": [
    {
     "name": "stdout",
     "output_type": "stream",
     "text": [
      "alpha=0.00,degree=1, train data: r2_score=0.67\n",
      "alpha=0.00,degree=1, test data: r2_score=0.74\n",
      "alpha=0.00,degree=2, train data: r2_score=0.83\n",
      "alpha=0.00,degree=2, test data: r2_score=0.85\n",
      "alpha=0.00,degree=3, train data: r2_score=0.87\n",
      "alpha=0.00,degree=3, test data: r2_score=0.84\n",
      "alpha=0.00,degree=4, train data: r2_score=0.89\n",
      "alpha=0.00,degree=4, test data: r2_score=0.84\n",
      "alpha=0.00,degree=5, train data: r2_score=0.90\n",
      "alpha=0.00,degree=5, test data: r2_score=0.82\n",
      "alpha=0.20,degree=1, train data: r2_score=0.67\n",
      "alpha=0.20,degree=1, test data: r2_score=0.74\n",
      "alpha=0.20,degree=2, train data: r2_score=0.83\n",
      "alpha=0.20,degree=2, test data: r2_score=0.85\n",
      "alpha=0.20,degree=3, train data: r2_score=0.87\n",
      "alpha=0.20,degree=3, test data: r2_score=0.84\n",
      "alpha=0.20,degree=4, train data: r2_score=0.89\n",
      "alpha=0.20,degree=4, test data: r2_score=0.84\n",
      "alpha=0.20,degree=5, train data: r2_score=0.90\n",
      "alpha=0.20,degree=5, test data: r2_score=0.82\n",
      "alpha=0.40,degree=1, train data: r2_score=0.67\n",
      "alpha=0.40,degree=1, test data: r2_score=0.74\n",
      "alpha=0.40,degree=2, train data: r2_score=0.83\n",
      "alpha=0.40,degree=2, test data: r2_score=0.85\n",
      "alpha=0.40,degree=3, train data: r2_score=0.87\n",
      "alpha=0.40,degree=3, test data: r2_score=0.84\n",
      "alpha=0.40,degree=4, train data: r2_score=0.89\n",
      "alpha=0.40,degree=4, test data: r2_score=0.84\n",
      "alpha=0.40,degree=5, train data: r2_score=0.90\n",
      "alpha=0.40,degree=5, test data: r2_score=0.82\n",
      "alpha=0.60,degree=1, train data: r2_score=0.67\n",
      "alpha=0.60,degree=1, test data: r2_score=0.74\n",
      "alpha=0.60,degree=2, train data: r2_score=0.83\n",
      "alpha=0.60,degree=2, test data: r2_score=0.85\n",
      "alpha=0.60,degree=3, train data: r2_score=0.87\n",
      "alpha=0.60,degree=3, test data: r2_score=0.84\n",
      "alpha=0.60,degree=4, train data: r2_score=0.89\n",
      "alpha=0.60,degree=4, test data: r2_score=0.84\n",
      "alpha=0.60,degree=5, train data: r2_score=0.90\n",
      "alpha=0.60,degree=5, test data: r2_score=0.82\n",
      "alpha=0.80,degree=1, train data: r2_score=0.67\n",
      "alpha=0.80,degree=1, test data: r2_score=0.74\n",
      "alpha=0.80,degree=2, train data: r2_score=0.83\n",
      "alpha=0.80,degree=2, test data: r2_score=0.85\n",
      "alpha=0.80,degree=3, train data: r2_score=0.87\n",
      "alpha=0.80,degree=3, test data: r2_score=0.84\n",
      "alpha=0.80,degree=4, train data: r2_score=0.89\n",
      "alpha=0.80,degree=4, test data: r2_score=0.84\n",
      "alpha=0.80,degree=5, train data: r2_score=0.90\n",
      "alpha=0.80,degree=5, test data: r2_score=0.82\n",
      "The best case: alpha=0.00,degree=2, test_score=0.85, train_score=0.83\n"
     ]
    }
   ],
   "source": [
    "score_best =0\n",
    "degree_best=0\n",
    "alpha_best =0\n",
    "score_train =0\n",
    "for alpha in np.arange(0,1.0,0.2):\n",
    "    for degree in range(1,6):\n",
    "        Poly=PolynomialFeatures(degree=degree)\n",
    "        X_train_transform=Poly.fit_transform(X_train)\n",
    "        X_test_transform=Poly.fit_transform(X_test) \n",
    "        clf=linear_model.Lasso(alpha=alpha)\n",
    "        clf.fit(X_train_transform,y_train)\n",
    "        y_train_pred=clf.predict(X_train_transform)\n",
    "        y_test_pred=clf.predict(X_test_transform)\n",
    "        \n",
    "        if(r2_score(y_test_pred,y_test) > score_best):\n",
    "            score_best  = r2_score(y_test_pred,y_test)\n",
    "            degree_best = degree\n",
    "            alpha_best  = alpha\n",
    "            score_train = r2_score(y_train_pred,y_train)\n",
    "        print('alpha={:.2f},degree={:d}, train data: r2_score={:.2f}'.format(alpha,degree,r2_score(y_train_pred,y_train)))\n",
    "        print('alpha={:.2f},degree={:d}, test data: r2_score={:.2f}'.format(alpha,degree,r2_score(y_test_pred,y_test)))\n",
    "\n",
    "print(\"The best case: alpha={:.2f},degree={:d}, test_score={:.2f}, train_score={:.2f}\"\n",
    "      .format(alpha_best,degree_best,score_best,score_train))\n",
    " "
   ]
  },
  {
   "cell_type": "code",
   "execution_count": 34,
   "metadata": {},
   "outputs": [
    {
     "data": {
      "text/html": [
       "<div>\n",
       "<style scoped>\n",
       "    .dataframe tbody tr th:only-of-type {\n",
       "        vertical-align: middle;\n",
       "    }\n",
       "\n",
       "    .dataframe tbody tr th {\n",
       "        vertical-align: top;\n",
       "    }\n",
       "\n",
       "    .dataframe thead th {\n",
       "        text-align: right;\n",
       "    }\n",
       "</style>\n",
       "<table border=\"1\" class=\"dataframe\">\n",
       "  <thead>\n",
       "    <tr style=\"text-align: right;\">\n",
       "      <th></th>\n",
       "      <th>YearRemodAdd</th>\n",
       "      <th>YearBuilt</th>\n",
       "      <th>TotRmsAbvGrd</th>\n",
       "      <th>FullBath</th>\n",
       "      <th>1stFlrSF</th>\n",
       "      <th>TotalBsmtSF</th>\n",
       "      <th>GarageArea</th>\n",
       "      <th>GarageCars</th>\n",
       "      <th>GrLivArea</th>\n",
       "      <th>OverallQual</th>\n",
       "      <th>SalePrice</th>\n",
       "    </tr>\n",
       "  </thead>\n",
       "  <tbody>\n",
       "    <tr>\n",
       "      <th>0</th>\n",
       "      <td>2003</td>\n",
       "      <td>2003</td>\n",
       "      <td>8</td>\n",
       "      <td>2</td>\n",
       "      <td>856</td>\n",
       "      <td>856</td>\n",
       "      <td>548</td>\n",
       "      <td>2</td>\n",
       "      <td>1710</td>\n",
       "      <td>7</td>\n",
       "      <td>208500</td>\n",
       "    </tr>\n",
       "    <tr>\n",
       "      <th>1</th>\n",
       "      <td>1976</td>\n",
       "      <td>1976</td>\n",
       "      <td>6</td>\n",
       "      <td>2</td>\n",
       "      <td>1262</td>\n",
       "      <td>1262</td>\n",
       "      <td>460</td>\n",
       "      <td>2</td>\n",
       "      <td>1262</td>\n",
       "      <td>6</td>\n",
       "      <td>181500</td>\n",
       "    </tr>\n",
       "    <tr>\n",
       "      <th>2</th>\n",
       "      <td>2002</td>\n",
       "      <td>2001</td>\n",
       "      <td>6</td>\n",
       "      <td>2</td>\n",
       "      <td>920</td>\n",
       "      <td>920</td>\n",
       "      <td>608</td>\n",
       "      <td>2</td>\n",
       "      <td>1786</td>\n",
       "      <td>7</td>\n",
       "      <td>223500</td>\n",
       "    </tr>\n",
       "    <tr>\n",
       "      <th>3</th>\n",
       "      <td>1970</td>\n",
       "      <td>1915</td>\n",
       "      <td>7</td>\n",
       "      <td>1</td>\n",
       "      <td>961</td>\n",
       "      <td>756</td>\n",
       "      <td>642</td>\n",
       "      <td>3</td>\n",
       "      <td>1717</td>\n",
       "      <td>7</td>\n",
       "      <td>140000</td>\n",
       "    </tr>\n",
       "    <tr>\n",
       "      <th>4</th>\n",
       "      <td>2000</td>\n",
       "      <td>2000</td>\n",
       "      <td>9</td>\n",
       "      <td>2</td>\n",
       "      <td>1145</td>\n",
       "      <td>1145</td>\n",
       "      <td>836</td>\n",
       "      <td>3</td>\n",
       "      <td>2198</td>\n",
       "      <td>8</td>\n",
       "      <td>250000</td>\n",
       "    </tr>\n",
       "  </tbody>\n",
       "</table>\n",
       "</div>"
      ],
      "text/plain": [
       "   YearRemodAdd  YearBuilt  TotRmsAbvGrd  FullBath  1stFlrSF  TotalBsmtSF  \\\n",
       "0          2003       2003             8         2       856          856   \n",
       "1          1976       1976             6         2      1262         1262   \n",
       "2          2002       2001             6         2       920          920   \n",
       "3          1970       1915             7         1       961          756   \n",
       "4          2000       2000             9         2      1145         1145   \n",
       "\n",
       "   GarageArea  GarageCars  GrLivArea  OverallQual  SalePrice  \n",
       "0         548           2       1710            7     208500  \n",
       "1         460           2       1262            6     181500  \n",
       "2         608           2       1786            7     223500  \n",
       "3         642           3       1717            7     140000  \n",
       "4         836           3       2198            8     250000  "
      ]
     },
     "execution_count": 34,
     "metadata": {},
     "output_type": "execute_result"
    }
   ],
   "source": [
    "df_train_features.head()"
   ]
  },
  {
   "cell_type": "code",
   "execution_count": 35,
   "metadata": {},
   "outputs": [
    {
     "data": {
      "text/plain": [
       "['YearRemodAdd',\n",
       " 'YearBuilt',\n",
       " 'TotRmsAbvGrd',\n",
       " 'FullBath',\n",
       " '1stFlrSF',\n",
       " 'TotalBsmtSF',\n",
       " 'GarageArea',\n",
       " 'GarageCars',\n",
       " 'GrLivArea',\n",
       " 'OverallQual',\n",
       " 'SalePrice']"
      ]
     },
     "execution_count": 35,
     "metadata": {},
     "output_type": "execute_result"
    }
   ],
   "source": [
    "features_all_corr05"
   ]
  },
  {
   "cell_type": "code",
   "execution_count": 36,
   "metadata": {},
   "outputs": [
    {
     "data": {
      "text/plain": [
       "['YearRemodAdd',\n",
       " 'YearBuilt',\n",
       " 'TotRmsAbvGrd',\n",
       " 'FullBath',\n",
       " '1stFlrSF',\n",
       " 'TotalBsmtSF',\n",
       " 'GarageArea',\n",
       " 'GarageCars',\n",
       " 'GrLivArea',\n",
       " 'OverallQual']"
      ]
     },
     "execution_count": 36,
     "metadata": {},
     "output_type": "execute_result"
    }
   ],
   "source": [
    "features=features_all_corr05[0:len(features_all_corr05)-1]\n",
    "features"
   ]
  },
  {
   "cell_type": "code",
   "execution_count": 37,
   "metadata": {
    "scrolled": false
   },
   "outputs": [
    {
     "name": "stdout",
     "output_type": "stream",
     "text": [
      "epoch=1,alpha=0.00,degree=1, train data: r2_score=0.68\n",
      "epoch=1,alpha=0.00,degree=1, test data: r2_score=0.72\n",
      "epoch=2,alpha=0.00,degree=1, train data: r2_score=0.73\n",
      "epoch=2,alpha=0.00,degree=1, test data: r2_score=0.73\n",
      "epoch=3,alpha=0.00,degree=1, train data: r2_score=0.74\n",
      "epoch=3,alpha=0.00,degree=1, test data: r2_score=0.68\n",
      "epoch=4,alpha=0.00,degree=1, train data: r2_score=0.74\n",
      "epoch=4,alpha=0.00,degree=1, test data: r2_score=0.66\n",
      "epoch=1,alpha=0.00,degree=2, train data: r2_score=0.84\n",
      "epoch=1,alpha=0.00,degree=2, test data: r2_score=0.77\n",
      "epoch=2,alpha=0.00,degree=2, train data: r2_score=0.89\n",
      "epoch=2,alpha=0.00,degree=2, test data: r2_score=0.72\n",
      "epoch=3,alpha=0.00,degree=2, train data: r2_score=0.84\n",
      "epoch=3,alpha=0.00,degree=2, test data: r2_score=0.83\n",
      "epoch=4,alpha=0.00,degree=2, train data: r2_score=0.83\n",
      "epoch=4,alpha=0.00,degree=2, test data: r2_score=0.78\n",
      "epoch=1,alpha=0.00,degree=3, train data: r2_score=0.88\n",
      "epoch=1,alpha=0.00,degree=3, test data: r2_score=0.78\n",
      "epoch=2,alpha=0.00,degree=3, train data: r2_score=0.87\n",
      "epoch=2,alpha=0.00,degree=3, test data: r2_score=0.80\n",
      "epoch=3,alpha=0.00,degree=3, train data: r2_score=0.87\n",
      "epoch=3,alpha=0.00,degree=3, test data: r2_score=0.84\n",
      "epoch=4,alpha=0.00,degree=3, train data: r2_score=0.88\n",
      "epoch=4,alpha=0.00,degree=3, test data: r2_score=0.77\n",
      "epoch=1,alpha=0.00,degree=4, train data: r2_score=0.90\n",
      "epoch=1,alpha=0.00,degree=4, test data: r2_score=0.82\n",
      "epoch=2,alpha=0.00,degree=4, train data: r2_score=0.90\n",
      "epoch=2,alpha=0.00,degree=4, test data: r2_score=0.85\n",
      "epoch=3,alpha=0.00,degree=4, train data: r2_score=0.90\n",
      "epoch=3,alpha=0.00,degree=4, test data: r2_score=0.86\n",
      "epoch=4,alpha=0.00,degree=4, train data: r2_score=0.90\n",
      "epoch=4,alpha=0.00,degree=4, test data: r2_score=0.76\n",
      "epoch=1,alpha=0.20,degree=1, train data: r2_score=0.69\n",
      "epoch=1,alpha=0.20,degree=1, test data: r2_score=0.72\n",
      "epoch=2,alpha=0.20,degree=1, train data: r2_score=0.75\n",
      "epoch=2,alpha=0.20,degree=1, test data: r2_score=0.67\n",
      "epoch=3,alpha=0.20,degree=1, train data: r2_score=0.70\n",
      "epoch=3,alpha=0.20,degree=1, test data: r2_score=0.62\n",
      "epoch=4,alpha=0.20,degree=1, train data: r2_score=0.76\n",
      "epoch=4,alpha=0.20,degree=1, test data: r2_score=0.64\n",
      "epoch=1,alpha=0.20,degree=2, train data: r2_score=0.85\n",
      "epoch=1,alpha=0.20,degree=2, test data: r2_score=0.77\n",
      "epoch=2,alpha=0.20,degree=2, train data: r2_score=0.85\n",
      "epoch=2,alpha=0.20,degree=2, test data: r2_score=0.77\n",
      "epoch=3,alpha=0.20,degree=2, train data: r2_score=0.83\n",
      "epoch=3,alpha=0.20,degree=2, test data: r2_score=0.75\n",
      "epoch=4,alpha=0.20,degree=2, train data: r2_score=0.83\n",
      "epoch=4,alpha=0.20,degree=2, test data: r2_score=0.61\n",
      "epoch=1,alpha=0.20,degree=3, train data: r2_score=0.90\n",
      "epoch=1,alpha=0.20,degree=3, test data: r2_score=0.75\n",
      "epoch=2,alpha=0.20,degree=3, train data: r2_score=0.89\n",
      "epoch=2,alpha=0.20,degree=3, test data: r2_score=0.77\n",
      "epoch=3,alpha=0.20,degree=3, train data: r2_score=0.88\n",
      "epoch=3,alpha=0.20,degree=3, test data: r2_score=0.74\n",
      "epoch=4,alpha=0.20,degree=3, train data: r2_score=0.88\n",
      "epoch=4,alpha=0.20,degree=3, test data: r2_score=0.80\n",
      "epoch=1,alpha=0.20,degree=4, train data: r2_score=0.90\n",
      "epoch=1,alpha=0.20,degree=4, test data: r2_score=0.65\n",
      "epoch=2,alpha=0.20,degree=4, train data: r2_score=0.91\n",
      "epoch=2,alpha=0.20,degree=4, test data: r2_score=0.76\n",
      "epoch=3,alpha=0.20,degree=4, train data: r2_score=0.90\n",
      "epoch=3,alpha=0.20,degree=4, test data: r2_score=0.23\n",
      "epoch=4,alpha=0.20,degree=4, train data: r2_score=0.90\n",
      "epoch=4,alpha=0.20,degree=4, test data: r2_score=0.02\n",
      "epoch=1,alpha=0.40,degree=1, train data: r2_score=0.67\n",
      "epoch=1,alpha=0.40,degree=1, test data: r2_score=0.71\n",
      "epoch=2,alpha=0.40,degree=1, train data: r2_score=0.66\n",
      "epoch=2,alpha=0.40,degree=1, test data: r2_score=0.77\n",
      "epoch=3,alpha=0.40,degree=1, train data: r2_score=0.67\n",
      "epoch=3,alpha=0.40,degree=1, test data: r2_score=0.74\n",
      "epoch=4,alpha=0.40,degree=1, train data: r2_score=0.68\n",
      "epoch=4,alpha=0.40,degree=1, test data: r2_score=0.63\n",
      "epoch=1,alpha=0.40,degree=2, train data: r2_score=0.88\n",
      "epoch=1,alpha=0.40,degree=2, test data: r2_score=0.54\n",
      "epoch=2,alpha=0.40,degree=2, train data: r2_score=0.84\n",
      "epoch=2,alpha=0.40,degree=2, test data: r2_score=0.75\n",
      "epoch=3,alpha=0.40,degree=2, train data: r2_score=0.87\n",
      "epoch=3,alpha=0.40,degree=2, test data: r2_score=0.64\n",
      "epoch=4,alpha=0.40,degree=2, train data: r2_score=0.82\n",
      "epoch=4,alpha=0.40,degree=2, test data: r2_score=0.87\n",
      "epoch=1,alpha=0.40,degree=3, train data: r2_score=0.86\n",
      "epoch=1,alpha=0.40,degree=3, test data: r2_score=0.85\n",
      "epoch=2,alpha=0.40,degree=3, train data: r2_score=0.87\n",
      "epoch=2,alpha=0.40,degree=3, test data: r2_score=0.83\n",
      "epoch=3,alpha=0.40,degree=3, train data: r2_score=0.88\n",
      "epoch=3,alpha=0.40,degree=3, test data: r2_score=0.69\n",
      "epoch=4,alpha=0.40,degree=3, train data: r2_score=0.90\n",
      "epoch=4,alpha=0.40,degree=3, test data: r2_score=0.66\n",
      "epoch=1,alpha=0.40,degree=4, train data: r2_score=0.90\n",
      "epoch=1,alpha=0.40,degree=4, test data: r2_score=0.79\n",
      "epoch=2,alpha=0.40,degree=4, train data: r2_score=0.90\n",
      "epoch=2,alpha=0.40,degree=4, test data: r2_score=0.07\n",
      "epoch=3,alpha=0.40,degree=4, train data: r2_score=0.90\n",
      "epoch=3,alpha=0.40,degree=4, test data: r2_score=0.64\n",
      "epoch=4,alpha=0.40,degree=4, train data: r2_score=0.88\n",
      "epoch=4,alpha=0.40,degree=4, test data: r2_score=0.02\n",
      "epoch=1,alpha=0.60,degree=1, train data: r2_score=0.76\n",
      "epoch=1,alpha=0.60,degree=1, test data: r2_score=0.63\n",
      "epoch=2,alpha=0.60,degree=1, train data: r2_score=0.69\n",
      "epoch=2,alpha=0.60,degree=1, test data: r2_score=0.73\n",
      "epoch=3,alpha=0.60,degree=1, train data: r2_score=0.75\n",
      "epoch=3,alpha=0.60,degree=1, test data: r2_score=0.66\n",
      "epoch=4,alpha=0.60,degree=1, train data: r2_score=0.67\n",
      "epoch=4,alpha=0.60,degree=1, test data: r2_score=0.68\n",
      "epoch=1,alpha=0.60,degree=2, train data: r2_score=0.88\n",
      "epoch=1,alpha=0.60,degree=2, test data: r2_score=0.64\n",
      "epoch=2,alpha=0.60,degree=2, train data: r2_score=0.84\n",
      "epoch=2,alpha=0.60,degree=2, test data: r2_score=0.69\n",
      "epoch=3,alpha=0.60,degree=2, train data: r2_score=0.84\n",
      "epoch=3,alpha=0.60,degree=2, test data: r2_score=0.80\n",
      "epoch=4,alpha=0.60,degree=2, train data: r2_score=0.83\n",
      "epoch=4,alpha=0.60,degree=2, test data: r2_score=0.85\n",
      "epoch=1,alpha=0.60,degree=3, train data: r2_score=0.88\n",
      "epoch=1,alpha=0.60,degree=3, test data: r2_score=0.06\n",
      "epoch=2,alpha=0.60,degree=3, train data: r2_score=0.88\n",
      "epoch=2,alpha=0.60,degree=3, test data: r2_score=0.08\n",
      "epoch=3,alpha=0.60,degree=3, train data: r2_score=0.90\n",
      "epoch=3,alpha=0.60,degree=3, test data: r2_score=0.03\n",
      "epoch=4,alpha=0.60,degree=3, train data: r2_score=0.88\n",
      "epoch=4,alpha=0.60,degree=3, test data: r2_score=0.85\n",
      "epoch=1,alpha=0.60,degree=4, train data: r2_score=0.91\n",
      "epoch=1,alpha=0.60,degree=4, test data: r2_score=0.03\n",
      "epoch=2,alpha=0.60,degree=4, train data: r2_score=0.90\n",
      "epoch=2,alpha=0.60,degree=4, test data: r2_score=0.79\n",
      "epoch=3,alpha=0.60,degree=4, train data: r2_score=0.89\n",
      "epoch=3,alpha=0.60,degree=4, test data: r2_score=0.02\n",
      "epoch=4,alpha=0.60,degree=4, train data: r2_score=0.90\n",
      "epoch=4,alpha=0.60,degree=4, test data: r2_score=0.75\n",
      "epoch=1,alpha=0.80,degree=1, train data: r2_score=0.79\n",
      "epoch=1,alpha=0.80,degree=1, test data: r2_score=0.65\n",
      "epoch=2,alpha=0.80,degree=1, train data: r2_score=0.68\n",
      "epoch=2,alpha=0.80,degree=1, test data: r2_score=0.73\n",
      "epoch=3,alpha=0.80,degree=1, train data: r2_score=0.65\n",
      "epoch=3,alpha=0.80,degree=1, test data: r2_score=0.78\n",
      "epoch=4,alpha=0.80,degree=1, train data: r2_score=0.67\n",
      "epoch=4,alpha=0.80,degree=1, test data: r2_score=0.76\n",
      "epoch=1,alpha=0.80,degree=2, train data: r2_score=0.88\n",
      "epoch=1,alpha=0.80,degree=2, test data: r2_score=0.73\n",
      "epoch=2,alpha=0.80,degree=2, train data: r2_score=0.84\n",
      "epoch=2,alpha=0.80,degree=2, test data: r2_score=0.69\n",
      "epoch=3,alpha=0.80,degree=2, train data: r2_score=0.88\n",
      "epoch=3,alpha=0.80,degree=2, test data: r2_score=0.64\n",
      "epoch=4,alpha=0.80,degree=2, train data: r2_score=0.84\n",
      "epoch=4,alpha=0.80,degree=2, test data: r2_score=0.81\n",
      "epoch=1,alpha=0.80,degree=3, train data: r2_score=0.89\n",
      "epoch=1,alpha=0.80,degree=3, test data: r2_score=0.75\n",
      "epoch=2,alpha=0.80,degree=3, train data: r2_score=0.90\n",
      "epoch=2,alpha=0.80,degree=3, test data: r2_score=0.75\n",
      "epoch=3,alpha=0.80,degree=3, train data: r2_score=0.87\n",
      "epoch=3,alpha=0.80,degree=3, test data: r2_score=0.80\n",
      "epoch=4,alpha=0.80,degree=3, train data: r2_score=0.87\n",
      "epoch=4,alpha=0.80,degree=3, test data: r2_score=0.82\n"
     ]
    },
    {
     "name": "stdout",
     "output_type": "stream",
     "text": [
      "epoch=1,alpha=0.80,degree=4, train data: r2_score=0.90\n",
      "epoch=1,alpha=0.80,degree=4, test data: r2_score=0.69\n",
      "epoch=2,alpha=0.80,degree=4, train data: r2_score=0.90\n",
      "epoch=2,alpha=0.80,degree=4, test data: r2_score=0.80\n",
      "epoch=3,alpha=0.80,degree=4, train data: r2_score=0.90\n",
      "epoch=3,alpha=0.80,degree=4, test data: r2_score=0.76\n",
      "epoch=4,alpha=0.80,degree=4, train data: r2_score=0.90\n",
      "epoch=4,alpha=0.80,degree=4, test data: r2_score=0.77\n",
      "The best case: epoch=4,alpha=0.40,degree=2, test_score=0.87, train_score=0.82\n"
     ]
    }
   ],
   "source": [
    "#degree=2\n",
    "#alpha=0.1\n",
    " \n",
    "score_best =0\n",
    "score_train=0\n",
    "degree_best=0\n",
    "alpha_best =0\n",
    "for alpha in np.arange(0,1.0,0.2):\n",
    "    for degree in range(1,5):\n",
    "        for epoch in range(1,5):\n",
    "            Poly=PolynomialFeatures(degree=degree)\n",
    "            df_sample=df_train_features[features_all_corr05].sample(frac=1).reset_index(drop=True)\n",
    "\n",
    "            X_train,X_test,y_train,y_test=train_test_split(df_sample[features],df_sample['SalePrice'],test_size=0.33)\n",
    "            X_train_transform =Poly.fit_transform(X_train)\n",
    "            X_test_transform  =Poly.fit_transform(X_test) \n",
    "\n",
    "            clf=linear_model.Lasso(alpha=alpha)\n",
    "            clf.fit(X_train_transform,y_train)\n",
    "            y_train_pred=clf.predict(X_train_transform)\n",
    "            y_test_pred=clf.predict(X_test_transform) \n",
    "            print('epoch={:d},alpha={:.2f},degree={:d}, train data: r2_score={:.2f}'\n",
    "                  .format(epoch,alpha,degree,r2_score(y_train_pred,y_train)))\n",
    "            print('epoch={:d},alpha={:.2f},degree={:d}, test data: r2_score={:.2f}'\n",
    "                  .format(epoch,alpha,degree,r2_score(y_test_pred,y_test)))\n",
    "            if(r2_score(y_test_pred,y_test) > score_best):\n",
    "                score_best  = r2_score(y_test_pred,y_test)\n",
    "                degree_best = degree\n",
    "                alpha_best  = alpha\n",
    "                score_train = r2_score(y_train_pred,y_train)\n",
    "print(\"The best case: epoch={:d},alpha={:.2f},degree={:d}, test_score={:.2f}, train_score={:.2f}\"\n",
    "      .format(epoch,alpha_best,degree_best,score_best,score_train))\n"
   ]
  },
  {
   "cell_type": "code",
   "execution_count": 38,
   "metadata": {},
   "outputs": [
    {
     "data": {
      "text/plain": [
       "(1001,)"
      ]
     },
     "execution_count": 38,
     "metadata": {},
     "output_type": "execute_result"
    }
   ],
   "source": [
    "clf.coef_.shape"
   ]
  },
  {
   "cell_type": "markdown",
   "metadata": {},
   "source": [
    "# Test the test data"
   ]
  },
  {
   "cell_type": "code",
   "execution_count": 39,
   "metadata": {},
   "outputs": [
    {
     "data": {
      "text/html": [
       "<div>\n",
       "<style scoped>\n",
       "    .dataframe tbody tr th:only-of-type {\n",
       "        vertical-align: middle;\n",
       "    }\n",
       "\n",
       "    .dataframe tbody tr th {\n",
       "        vertical-align: top;\n",
       "    }\n",
       "\n",
       "    .dataframe thead th {\n",
       "        text-align: right;\n",
       "    }\n",
       "</style>\n",
       "<table border=\"1\" class=\"dataframe\">\n",
       "  <thead>\n",
       "    <tr style=\"text-align: right;\">\n",
       "      <th></th>\n",
       "      <th>YearRemodAdd</th>\n",
       "      <th>YearBuilt</th>\n",
       "      <th>TotRmsAbvGrd</th>\n",
       "      <th>FullBath</th>\n",
       "      <th>1stFlrSF</th>\n",
       "      <th>TotalBsmtSF</th>\n",
       "      <th>GarageArea</th>\n",
       "      <th>GarageCars</th>\n",
       "      <th>GrLivArea</th>\n",
       "      <th>OverallQual</th>\n",
       "    </tr>\n",
       "    <tr>\n",
       "      <th>Id</th>\n",
       "      <th></th>\n",
       "      <th></th>\n",
       "      <th></th>\n",
       "      <th></th>\n",
       "      <th></th>\n",
       "      <th></th>\n",
       "      <th></th>\n",
       "      <th></th>\n",
       "      <th></th>\n",
       "      <th></th>\n",
       "    </tr>\n",
       "  </thead>\n",
       "  <tbody>\n",
       "    <tr>\n",
       "      <th>1461</th>\n",
       "      <td>1961</td>\n",
       "      <td>1961</td>\n",
       "      <td>5</td>\n",
       "      <td>1</td>\n",
       "      <td>896</td>\n",
       "      <td>882.0</td>\n",
       "      <td>730.0</td>\n",
       "      <td>1.0</td>\n",
       "      <td>896</td>\n",
       "      <td>5</td>\n",
       "    </tr>\n",
       "    <tr>\n",
       "      <th>1462</th>\n",
       "      <td>1958</td>\n",
       "      <td>1958</td>\n",
       "      <td>6</td>\n",
       "      <td>1</td>\n",
       "      <td>1329</td>\n",
       "      <td>1329.0</td>\n",
       "      <td>312.0</td>\n",
       "      <td>1.0</td>\n",
       "      <td>1329</td>\n",
       "      <td>6</td>\n",
       "    </tr>\n",
       "    <tr>\n",
       "      <th>1463</th>\n",
       "      <td>1998</td>\n",
       "      <td>1997</td>\n",
       "      <td>6</td>\n",
       "      <td>2</td>\n",
       "      <td>928</td>\n",
       "      <td>928.0</td>\n",
       "      <td>482.0</td>\n",
       "      <td>2.0</td>\n",
       "      <td>1629</td>\n",
       "      <td>5</td>\n",
       "    </tr>\n",
       "    <tr>\n",
       "      <th>1464</th>\n",
       "      <td>1998</td>\n",
       "      <td>1998</td>\n",
       "      <td>7</td>\n",
       "      <td>2</td>\n",
       "      <td>926</td>\n",
       "      <td>926.0</td>\n",
       "      <td>470.0</td>\n",
       "      <td>2.0</td>\n",
       "      <td>1604</td>\n",
       "      <td>6</td>\n",
       "    </tr>\n",
       "    <tr>\n",
       "      <th>1465</th>\n",
       "      <td>1992</td>\n",
       "      <td>1992</td>\n",
       "      <td>5</td>\n",
       "      <td>2</td>\n",
       "      <td>1280</td>\n",
       "      <td>1280.0</td>\n",
       "      <td>506.0</td>\n",
       "      <td>2.0</td>\n",
       "      <td>1280</td>\n",
       "      <td>8</td>\n",
       "    </tr>\n",
       "  </tbody>\n",
       "</table>\n",
       "</div>"
      ],
      "text/plain": [
       "      YearRemodAdd  YearBuilt  TotRmsAbvGrd  FullBath  1stFlrSF  TotalBsmtSF  \\\n",
       "Id                                                                             \n",
       "1461          1961       1961             5         1       896        882.0   \n",
       "1462          1958       1958             6         1      1329       1329.0   \n",
       "1463          1998       1997             6         2       928        928.0   \n",
       "1464          1998       1998             7         2       926        926.0   \n",
       "1465          1992       1992             5         2      1280       1280.0   \n",
       "\n",
       "      GarageArea  GarageCars  GrLivArea  OverallQual  \n",
       "Id                                                    \n",
       "1461       730.0         1.0        896            5  \n",
       "1462       312.0         1.0       1329            6  \n",
       "1463       482.0         2.0       1629            5  \n",
       "1464       470.0         2.0       1604            6  \n",
       "1465       506.0         2.0       1280            8  "
      ]
     },
     "execution_count": 39,
     "metadata": {},
     "output_type": "execute_result"
    }
   ],
   "source": [
    "df_test_features.head()"
   ]
  },
  {
   "cell_type": "code",
   "execution_count": 42,
   "metadata": {
    "scrolled": true
   },
   "outputs": [
    {
     "data": {
      "text/html": [
       "<div>\n",
       "<style scoped>\n",
       "    .dataframe tbody tr th:only-of-type {\n",
       "        vertical-align: middle;\n",
       "    }\n",
       "\n",
       "    .dataframe tbody tr th {\n",
       "        vertical-align: top;\n",
       "    }\n",
       "\n",
       "    .dataframe thead th {\n",
       "        text-align: right;\n",
       "    }\n",
       "</style>\n",
       "<table border=\"1\" class=\"dataframe\">\n",
       "  <thead>\n",
       "    <tr style=\"text-align: right;\">\n",
       "      <th></th>\n",
       "      <th>Id</th>\n",
       "      <th>YearRemodAdd</th>\n",
       "      <th>YearBuilt</th>\n",
       "      <th>TotRmsAbvGrd</th>\n",
       "      <th>FullBath</th>\n",
       "      <th>1stFlrSF</th>\n",
       "      <th>TotalBsmtSF</th>\n",
       "      <th>GarageArea</th>\n",
       "      <th>GarageCars</th>\n",
       "      <th>GrLivArea</th>\n",
       "      <th>OverallQual</th>\n",
       "    </tr>\n",
       "  </thead>\n",
       "  <tbody>\n",
       "    <tr>\n",
       "      <th>0</th>\n",
       "      <td>1461</td>\n",
       "      <td>1961</td>\n",
       "      <td>1961</td>\n",
       "      <td>5</td>\n",
       "      <td>1</td>\n",
       "      <td>896</td>\n",
       "      <td>882.0</td>\n",
       "      <td>730.0</td>\n",
       "      <td>1.0</td>\n",
       "      <td>896</td>\n",
       "      <td>5</td>\n",
       "    </tr>\n",
       "    <tr>\n",
       "      <th>1</th>\n",
       "      <td>1462</td>\n",
       "      <td>1958</td>\n",
       "      <td>1958</td>\n",
       "      <td>6</td>\n",
       "      <td>1</td>\n",
       "      <td>1329</td>\n",
       "      <td>1329.0</td>\n",
       "      <td>312.0</td>\n",
       "      <td>1.0</td>\n",
       "      <td>1329</td>\n",
       "      <td>6</td>\n",
       "    </tr>\n",
       "    <tr>\n",
       "      <th>2</th>\n",
       "      <td>1463</td>\n",
       "      <td>1998</td>\n",
       "      <td>1997</td>\n",
       "      <td>6</td>\n",
       "      <td>2</td>\n",
       "      <td>928</td>\n",
       "      <td>928.0</td>\n",
       "      <td>482.0</td>\n",
       "      <td>2.0</td>\n",
       "      <td>1629</td>\n",
       "      <td>5</td>\n",
       "    </tr>\n",
       "    <tr>\n",
       "      <th>3</th>\n",
       "      <td>1464</td>\n",
       "      <td>1998</td>\n",
       "      <td>1998</td>\n",
       "      <td>7</td>\n",
       "      <td>2</td>\n",
       "      <td>926</td>\n",
       "      <td>926.0</td>\n",
       "      <td>470.0</td>\n",
       "      <td>2.0</td>\n",
       "      <td>1604</td>\n",
       "      <td>6</td>\n",
       "    </tr>\n",
       "    <tr>\n",
       "      <th>4</th>\n",
       "      <td>1465</td>\n",
       "      <td>1992</td>\n",
       "      <td>1992</td>\n",
       "      <td>5</td>\n",
       "      <td>2</td>\n",
       "      <td>1280</td>\n",
       "      <td>1280.0</td>\n",
       "      <td>506.0</td>\n",
       "      <td>2.0</td>\n",
       "      <td>1280</td>\n",
       "      <td>8</td>\n",
       "    </tr>\n",
       "  </tbody>\n",
       "</table>\n",
       "</div>"
      ],
      "text/plain": [
       "     Id  YearRemodAdd  YearBuilt  TotRmsAbvGrd  FullBath  1stFlrSF  \\\n",
       "0  1461          1961       1961             5         1       896   \n",
       "1  1462          1958       1958             6         1      1329   \n",
       "2  1463          1998       1997             6         2       928   \n",
       "3  1464          1998       1998             7         2       926   \n",
       "4  1465          1992       1992             5         2      1280   \n",
       "\n",
       "   TotalBsmtSF  GarageArea  GarageCars  GrLivArea  OverallQual  \n",
       "0        882.0       730.0         1.0        896            5  \n",
       "1       1329.0       312.0         1.0       1329            6  \n",
       "2        928.0       482.0         2.0       1629            5  \n",
       "3        926.0       470.0         2.0       1604            6  \n",
       "4       1280.0       506.0         2.0       1280            8  "
      ]
     },
     "execution_count": 42,
     "metadata": {},
     "output_type": "execute_result"
    }
   ],
   "source": [
    "Save2File=pd.DataFrame()\n",
    "df_temp=df_test_features.copy()\n",
    "df_temp.reset_index(inplace=True)\n",
    "#Save2File['ID']=df_temp['ID']\n",
    "df_temp.head()\n"
   ]
  },
  {
   "cell_type": "code",
   "execution_count": 43,
   "metadata": {},
   "outputs": [
    {
     "name": "stdout",
     "output_type": "stream",
     "text": [
      "epoch=1,alpha=0.00,degree=1, train data: r2_score=0.75\n",
      "epoch=1,alpha=0.00,degree=1, test data: r2_score=0.65\n",
      "epoch=2,alpha=0.00,degree=1, train data: r2_score=0.68\n",
      "epoch=2,alpha=0.00,degree=1, test data: r2_score=0.75\n",
      "epoch=3,alpha=0.00,degree=1, train data: r2_score=0.66\n",
      "epoch=3,alpha=0.00,degree=1, test data: r2_score=0.71\n",
      "epoch=4,alpha=0.00,degree=1, train data: r2_score=0.76\n",
      "epoch=4,alpha=0.00,degree=1, test data: r2_score=0.66\n",
      "epoch=1,alpha=0.00,degree=2, train data: r2_score=0.84\n",
      "epoch=1,alpha=0.00,degree=2, test data: r2_score=0.84\n",
      "epoch=2,alpha=0.00,degree=2, train data: r2_score=0.84\n",
      "epoch=2,alpha=0.00,degree=2, test data: r2_score=0.85\n",
      "epoch=3,alpha=0.00,degree=2, train data: r2_score=0.85\n",
      "epoch=3,alpha=0.00,degree=2, test data: r2_score=0.73\n",
      "epoch=4,alpha=0.00,degree=2, train data: r2_score=0.84\n",
      "epoch=4,alpha=0.00,degree=2, test data: r2_score=0.72\n",
      "epoch=1,alpha=0.00,degree=3, train data: r2_score=0.88\n",
      "epoch=1,alpha=0.00,degree=3, test data: r2_score=0.07\n",
      "epoch=2,alpha=0.00,degree=3, train data: r2_score=0.90\n",
      "epoch=2,alpha=0.00,degree=3, test data: r2_score=0.75\n",
      "epoch=3,alpha=0.00,degree=3, train data: r2_score=0.88\n",
      "epoch=3,alpha=0.00,degree=3, test data: r2_score=0.75\n",
      "epoch=4,alpha=0.00,degree=3, train data: r2_score=0.89\n",
      "epoch=4,alpha=0.00,degree=3, test data: r2_score=0.76\n",
      "epoch=1,alpha=0.00,degree=4, train data: r2_score=0.91\n",
      "epoch=1,alpha=0.00,degree=4, test data: r2_score=0.02\n",
      "epoch=2,alpha=0.00,degree=4, train data: r2_score=0.91\n",
      "epoch=2,alpha=0.00,degree=4, test data: r2_score=0.03\n",
      "epoch=3,alpha=0.00,degree=4, train data: r2_score=0.91\n",
      "epoch=3,alpha=0.00,degree=4, test data: r2_score=0.16\n",
      "epoch=4,alpha=0.00,degree=4, train data: r2_score=0.90\n",
      "epoch=4,alpha=0.00,degree=4, test data: r2_score=0.86\n",
      "epoch=1,alpha=0.20,degree=1, train data: r2_score=0.69\n",
      "epoch=1,alpha=0.20,degree=1, test data: r2_score=0.77\n",
      "epoch=2,alpha=0.20,degree=1, train data: r2_score=0.69\n",
      "epoch=2,alpha=0.20,degree=1, test data: r2_score=0.73\n",
      "epoch=3,alpha=0.20,degree=1, train data: r2_score=0.79\n",
      "epoch=3,alpha=0.20,degree=1, test data: r2_score=0.63\n",
      "epoch=4,alpha=0.20,degree=1, train data: r2_score=0.70\n",
      "epoch=4,alpha=0.20,degree=1, test data: r2_score=0.77\n",
      "epoch=1,alpha=0.20,degree=2, train data: r2_score=0.83\n",
      "epoch=1,alpha=0.20,degree=2, test data: r2_score=0.84\n",
      "epoch=2,alpha=0.20,degree=2, train data: r2_score=0.83\n",
      "epoch=2,alpha=0.20,degree=2, test data: r2_score=0.72\n",
      "epoch=3,alpha=0.20,degree=2, train data: r2_score=0.88\n",
      "epoch=3,alpha=0.20,degree=2, test data: r2_score=0.75\n",
      "epoch=4,alpha=0.20,degree=2, train data: r2_score=0.84\n",
      "epoch=4,alpha=0.20,degree=2, test data: r2_score=0.82\n",
      "epoch=1,alpha=0.20,degree=3, train data: r2_score=0.89\n",
      "epoch=1,alpha=0.20,degree=3, test data: r2_score=0.75\n",
      "epoch=2,alpha=0.20,degree=3, train data: r2_score=0.87\n",
      "epoch=2,alpha=0.20,degree=3, test data: r2_score=0.84\n",
      "epoch=3,alpha=0.20,degree=3, train data: r2_score=0.88\n",
      "epoch=3,alpha=0.20,degree=3, test data: r2_score=0.72\n",
      "epoch=4,alpha=0.20,degree=3, train data: r2_score=0.88\n",
      "epoch=4,alpha=0.20,degree=3, test data: r2_score=0.09\n",
      "epoch=1,alpha=0.20,degree=4, train data: r2_score=0.91\n",
      "epoch=1,alpha=0.20,degree=4, test data: r2_score=0.77\n",
      "epoch=2,alpha=0.20,degree=4, train data: r2_score=0.89\n",
      "epoch=2,alpha=0.20,degree=4, test data: r2_score=0.86\n",
      "epoch=3,alpha=0.20,degree=4, train data: r2_score=0.90\n",
      "epoch=3,alpha=0.20,degree=4, test data: r2_score=0.79\n",
      "epoch=4,alpha=0.20,degree=4, train data: r2_score=0.89\n",
      "epoch=4,alpha=0.20,degree=4, test data: r2_score=0.77\n",
      "epoch=1,alpha=0.40,degree=1, train data: r2_score=0.70\n",
      "epoch=1,alpha=0.40,degree=1, test data: r2_score=0.71\n",
      "epoch=2,alpha=0.40,degree=1, train data: r2_score=0.69\n",
      "epoch=2,alpha=0.40,degree=1, test data: r2_score=0.73\n",
      "epoch=3,alpha=0.40,degree=1, train data: r2_score=0.68\n",
      "epoch=3,alpha=0.40,degree=1, test data: r2_score=0.68\n",
      "epoch=4,alpha=0.40,degree=1, train data: r2_score=0.69\n",
      "epoch=4,alpha=0.40,degree=1, test data: r2_score=0.60\n",
      "epoch=1,alpha=0.40,degree=2, train data: r2_score=0.87\n",
      "epoch=1,alpha=0.40,degree=2, test data: r2_score=0.77\n",
      "epoch=2,alpha=0.40,degree=2, train data: r2_score=0.84\n",
      "epoch=2,alpha=0.40,degree=2, test data: r2_score=0.79\n",
      "epoch=3,alpha=0.40,degree=2, train data: r2_score=0.83\n",
      "epoch=3,alpha=0.40,degree=2, test data: r2_score=0.82\n",
      "epoch=4,alpha=0.40,degree=2, train data: r2_score=0.88\n",
      "epoch=4,alpha=0.40,degree=2, test data: r2_score=0.74\n",
      "epoch=1,alpha=0.40,degree=3, train data: r2_score=0.88\n",
      "epoch=1,alpha=0.40,degree=3, test data: r2_score=0.06\n",
      "epoch=2,alpha=0.40,degree=3, train data: r2_score=0.89\n",
      "epoch=2,alpha=0.40,degree=3, test data: r2_score=0.76\n",
      "epoch=3,alpha=0.40,degree=3, train data: r2_score=0.88\n",
      "epoch=3,alpha=0.40,degree=3, test data: r2_score=0.06\n",
      "epoch=4,alpha=0.40,degree=3, train data: r2_score=0.88\n",
      "epoch=4,alpha=0.40,degree=3, test data: r2_score=0.04\n",
      "epoch=1,alpha=0.40,degree=4, train data: r2_score=0.90\n",
      "epoch=1,alpha=0.40,degree=4, test data: r2_score=0.79\n",
      "epoch=2,alpha=0.40,degree=4, train data: r2_score=0.89\n",
      "epoch=2,alpha=0.40,degree=4, test data: r2_score=0.83\n",
      "epoch=3,alpha=0.40,degree=4, train data: r2_score=0.91\n",
      "epoch=3,alpha=0.40,degree=4, test data: r2_score=0.58\n",
      "epoch=4,alpha=0.40,degree=4, train data: r2_score=0.92\n",
      "epoch=4,alpha=0.40,degree=4, test data: r2_score=0.31\n",
      "epoch=1,alpha=0.60,degree=1, train data: r2_score=0.68\n",
      "epoch=1,alpha=0.60,degree=1, test data: r2_score=0.69\n",
      "epoch=2,alpha=0.60,degree=1, train data: r2_score=0.71\n",
      "epoch=2,alpha=0.60,degree=1, test data: r2_score=0.68\n",
      "epoch=3,alpha=0.60,degree=1, train data: r2_score=0.74\n",
      "epoch=3,alpha=0.60,degree=1, test data: r2_score=0.69\n",
      "epoch=4,alpha=0.60,degree=1, train data: r2_score=0.75\n",
      "epoch=4,alpha=0.60,degree=1, test data: r2_score=0.65\n",
      "epoch=1,alpha=0.60,degree=2, train data: r2_score=0.83\n",
      "epoch=1,alpha=0.60,degree=2, test data: r2_score=0.85\n",
      "epoch=2,alpha=0.60,degree=2, train data: r2_score=0.83\n",
      "epoch=2,alpha=0.60,degree=2, test data: r2_score=0.85\n",
      "epoch=3,alpha=0.60,degree=2, train data: r2_score=0.84\n",
      "epoch=3,alpha=0.60,degree=2, test data: r2_score=0.85\n",
      "epoch=4,alpha=0.60,degree=2, train data: r2_score=0.88\n",
      "epoch=4,alpha=0.60,degree=2, test data: r2_score=0.74\n",
      "epoch=1,alpha=0.60,degree=3, train data: r2_score=0.88\n",
      "epoch=1,alpha=0.60,degree=3, test data: r2_score=0.09\n",
      "epoch=2,alpha=0.60,degree=3, train data: r2_score=0.88\n",
      "epoch=2,alpha=0.60,degree=3, test data: r2_score=0.79\n",
      "epoch=3,alpha=0.60,degree=3, train data: r2_score=0.89\n",
      "epoch=3,alpha=0.60,degree=3, test data: r2_score=0.75\n",
      "epoch=4,alpha=0.60,degree=3, train data: r2_score=0.87\n",
      "epoch=4,alpha=0.60,degree=3, test data: r2_score=0.83\n",
      "epoch=1,alpha=0.60,degree=4, train data: r2_score=0.90\n",
      "epoch=1,alpha=0.60,degree=4, test data: r2_score=0.78\n",
      "epoch=2,alpha=0.60,degree=4, train data: r2_score=0.91\n",
      "epoch=2,alpha=0.60,degree=4, test data: r2_score=0.73\n",
      "epoch=3,alpha=0.60,degree=4, train data: r2_score=0.90\n",
      "epoch=3,alpha=0.60,degree=4, test data: r2_score=0.76\n",
      "epoch=4,alpha=0.60,degree=4, train data: r2_score=0.89\n",
      "epoch=4,alpha=0.60,degree=4, test data: r2_score=0.83\n",
      "epoch=1,alpha=0.80,degree=1, train data: r2_score=0.77\n",
      "epoch=1,alpha=0.80,degree=1, test data: r2_score=0.58\n",
      "epoch=2,alpha=0.80,degree=1, train data: r2_score=0.74\n",
      "epoch=2,alpha=0.80,degree=1, test data: r2_score=0.68\n",
      "epoch=3,alpha=0.80,degree=1, train data: r2_score=0.67\n",
      "epoch=3,alpha=0.80,degree=1, test data: r2_score=0.71\n",
      "epoch=4,alpha=0.80,degree=1, train data: r2_score=0.72\n",
      "epoch=4,alpha=0.80,degree=1, test data: r2_score=0.70\n",
      "epoch=1,alpha=0.80,degree=2, train data: r2_score=0.83\n",
      "epoch=1,alpha=0.80,degree=2, test data: r2_score=0.76\n",
      "epoch=2,alpha=0.80,degree=2, train data: r2_score=0.87\n",
      "epoch=2,alpha=0.80,degree=2, test data: r2_score=0.59\n",
      "epoch=3,alpha=0.80,degree=2, train data: r2_score=0.84\n",
      "epoch=3,alpha=0.80,degree=2, test data: r2_score=0.71\n",
      "epoch=4,alpha=0.80,degree=2, train data: r2_score=0.84\n",
      "epoch=4,alpha=0.80,degree=2, test data: r2_score=0.83\n",
      "epoch=1,alpha=0.80,degree=3, train data: r2_score=0.88\n",
      "epoch=1,alpha=0.80,degree=3, test data: r2_score=0.78\n",
      "epoch=2,alpha=0.80,degree=3, train data: r2_score=0.90\n",
      "epoch=2,alpha=0.80,degree=3, test data: r2_score=0.74\n",
      "epoch=3,alpha=0.80,degree=3, train data: r2_score=0.90\n",
      "epoch=3,alpha=0.80,degree=3, test data: r2_score=0.67\n",
      "epoch=4,alpha=0.80,degree=3, train data: r2_score=0.86\n",
      "epoch=4,alpha=0.80,degree=3, test data: r2_score=0.85\n"
     ]
    },
    {
     "name": "stdout",
     "output_type": "stream",
     "text": [
      "epoch=1,alpha=0.80,degree=4, train data: r2_score=0.90\n",
      "epoch=1,alpha=0.80,degree=4, test data: r2_score=0.03\n",
      "epoch=2,alpha=0.80,degree=4, train data: r2_score=0.91\n",
      "epoch=2,alpha=0.80,degree=4, test data: r2_score=0.17\n",
      "epoch=3,alpha=0.80,degree=4, train data: r2_score=0.91\n",
      "epoch=3,alpha=0.80,degree=4, test data: r2_score=0.27\n",
      "epoch=4,alpha=0.80,degree=4, train data: r2_score=0.90\n",
      "epoch=4,alpha=0.80,degree=4, test data: r2_score=0.77\n",
      "The best case: epoch=4,alpha=0.20,degree=4, test_score=0.86, train_score=0.89\n"
     ]
    }
   ],
   "source": [
    "\n",
    "score_best =0\n",
    "score_train=0\n",
    "degree_best=0\n",
    "alpha_best =0 \n",
    "\n",
    "Save2File['Id']=df_temp['Id']\n",
    "for alpha in np.arange(0,1.0,0.2):\n",
    "    for degree in range(1,5):\n",
    "        for epoch in range(1,5):\n",
    "            Poly=PolynomialFeatures(degree=degree)\n",
    "            df_sample=df_train_features[features_all_corr05].sample(frac=1).reset_index(drop=True)\n",
    "\n",
    "            X_train,X_test,y_train,y_test=train_test_split(df_sample[features],df_sample['SalePrice'],test_size=0.33)\n",
    "            X_train_transform =Poly.fit_transform(X_train)\n",
    "            X_test_transform  =Poly.fit_transform(X_test)\n",
    "            \n",
    "            X_test_final  = Poly.fit_transform(df_test_features) # real testdata\n",
    "\n",
    "            clf=linear_model.Lasso(alpha=alpha)\n",
    "            clf.fit(X_train_transform,y_train)\n",
    "            y_train_pred=clf.predict(X_train_transform)\n",
    "            y_test_pred=clf.predict(X_test_transform) \n",
    "            print('epoch={:d},alpha={:.2f},degree={:d}, train data: r2_score={:.2f}'\n",
    "                  .format(epoch,alpha,degree,r2_score(y_train_pred,y_train)))\n",
    "            print('epoch={:d},alpha={:.2f},degree={:d}, test data: r2_score={:.2f}'\n",
    "                  .format(epoch,alpha,degree,r2_score(y_test_pred,y_test)))\n",
    "            if(r2_score(y_test_pred,y_test) > score_best):\n",
    "                score_best  = r2_score(y_test_pred,y_test)\n",
    "                degree_best = degree\n",
    "                alpha_best  = alpha\n",
    "                score_train = r2_score(y_train_pred,y_train)\n",
    "                \n",
    "                y_test_final = clf.predict(X_test_final) # prediction for real test data\n",
    "                Save2File['SalePrice']=y_test_final\n",
    "                \n",
    "                \n",
    "print(\"The best case: epoch={:d},alpha={:.2f},degree={:d}, test_score={:.2f}, train_score={:.2f}\"\n",
    "      .format(epoch,alpha_best,degree_best,score_best,score_train))\n",
    "\n"
   ]
  },
  {
   "cell_type": "code",
   "execution_count": 44,
   "metadata": {},
   "outputs": [
    {
     "data": {
      "text/html": [
       "<div>\n",
       "<style scoped>\n",
       "    .dataframe tbody tr th:only-of-type {\n",
       "        vertical-align: middle;\n",
       "    }\n",
       "\n",
       "    .dataframe tbody tr th {\n",
       "        vertical-align: top;\n",
       "    }\n",
       "\n",
       "    .dataframe thead th {\n",
       "        text-align: right;\n",
       "    }\n",
       "</style>\n",
       "<table border=\"1\" class=\"dataframe\">\n",
       "  <thead>\n",
       "    <tr style=\"text-align: right;\">\n",
       "      <th></th>\n",
       "      <th>Id</th>\n",
       "      <th>SalePrice</th>\n",
       "    </tr>\n",
       "  </thead>\n",
       "  <tbody>\n",
       "    <tr>\n",
       "      <th>0</th>\n",
       "      <td>1461</td>\n",
       "      <td>134783.960410</td>\n",
       "    </tr>\n",
       "    <tr>\n",
       "      <th>1</th>\n",
       "      <td>1462</td>\n",
       "      <td>153431.772357</td>\n",
       "    </tr>\n",
       "    <tr>\n",
       "      <th>2</th>\n",
       "      <td>1463</td>\n",
       "      <td>176661.264036</td>\n",
       "    </tr>\n",
       "    <tr>\n",
       "      <th>3</th>\n",
       "      <td>1464</td>\n",
       "      <td>182583.813017</td>\n",
       "    </tr>\n",
       "    <tr>\n",
       "      <th>4</th>\n",
       "      <td>1465</td>\n",
       "      <td>197915.908528</td>\n",
       "    </tr>\n",
       "  </tbody>\n",
       "</table>\n",
       "</div>"
      ],
      "text/plain": [
       "     Id      SalePrice\n",
       "0  1461  134783.960410\n",
       "1  1462  153431.772357\n",
       "2  1463  176661.264036\n",
       "3  1464  182583.813017\n",
       "4  1465  197915.908528"
      ]
     },
     "execution_count": 44,
     "metadata": {},
     "output_type": "execute_result"
    }
   ],
   "source": [
    "Save2File.head()"
   ]
  },
  {
   "cell_type": "code",
   "execution_count": 45,
   "metadata": {},
   "outputs": [
    {
     "data": {
      "text/html": [
       "<div>\n",
       "<style scoped>\n",
       "    .dataframe tbody tr th:only-of-type {\n",
       "        vertical-align: middle;\n",
       "    }\n",
       "\n",
       "    .dataframe tbody tr th {\n",
       "        vertical-align: top;\n",
       "    }\n",
       "\n",
       "    .dataframe thead th {\n",
       "        text-align: right;\n",
       "    }\n",
       "</style>\n",
       "<table border=\"1\" class=\"dataframe\">\n",
       "  <thead>\n",
       "    <tr style=\"text-align: right;\">\n",
       "      <th></th>\n",
       "      <th>Id</th>\n",
       "      <th>SalePrice</th>\n",
       "    </tr>\n",
       "  </thead>\n",
       "  <tbody>\n",
       "    <tr>\n",
       "      <th>count</th>\n",
       "      <td>1459.000000</td>\n",
       "      <td>1.459000e+03</td>\n",
       "    </tr>\n",
       "    <tr>\n",
       "      <th>mean</th>\n",
       "      <td>2190.000000</td>\n",
       "      <td>1.756778e+05</td>\n",
       "    </tr>\n",
       "    <tr>\n",
       "      <th>std</th>\n",
       "      <td>421.321334</td>\n",
       "      <td>1.007860e+05</td>\n",
       "    </tr>\n",
       "    <tr>\n",
       "      <th>min</th>\n",
       "      <td>1461.000000</td>\n",
       "      <td>-2.371316e+06</td>\n",
       "    </tr>\n",
       "    <tr>\n",
       "      <th>25%</th>\n",
       "      <td>1825.500000</td>\n",
       "      <td>1.277740e+05</td>\n",
       "    </tr>\n",
       "    <tr>\n",
       "      <th>50%</th>\n",
       "      <td>2190.000000</td>\n",
       "      <td>1.575968e+05</td>\n",
       "    </tr>\n",
       "    <tr>\n",
       "      <th>75%</th>\n",
       "      <td>2554.500000</td>\n",
       "      <td>2.096819e+05</td>\n",
       "    </tr>\n",
       "    <tr>\n",
       "      <th>max</th>\n",
       "      <td>2919.000000</td>\n",
       "      <td>6.129425e+05</td>\n",
       "    </tr>\n",
       "  </tbody>\n",
       "</table>\n",
       "</div>"
      ],
      "text/plain": [
       "                Id     SalePrice\n",
       "count  1459.000000  1.459000e+03\n",
       "mean   2190.000000  1.756778e+05\n",
       "std     421.321334  1.007860e+05\n",
       "min    1461.000000 -2.371316e+06\n",
       "25%    1825.500000  1.277740e+05\n",
       "50%    2190.000000  1.575968e+05\n",
       "75%    2554.500000  2.096819e+05\n",
       "max    2919.000000  6.129425e+05"
      ]
     },
     "execution_count": 45,
     "metadata": {},
     "output_type": "execute_result"
    }
   ],
   "source": [
    "Save2File.describe()"
   ]
  },
  {
   "cell_type": "code",
   "execution_count": 46,
   "metadata": {},
   "outputs": [
    {
     "data": {
      "text/html": [
       "<div>\n",
       "<style scoped>\n",
       "    .dataframe tbody tr th:only-of-type {\n",
       "        vertical-align: middle;\n",
       "    }\n",
       "\n",
       "    .dataframe tbody tr th {\n",
       "        vertical-align: top;\n",
       "    }\n",
       "\n",
       "    .dataframe thead th {\n",
       "        text-align: right;\n",
       "    }\n",
       "</style>\n",
       "<table border=\"1\" class=\"dataframe\">\n",
       "  <thead>\n",
       "    <tr style=\"text-align: right;\">\n",
       "      <th></th>\n",
       "      <th>SalePrice</th>\n",
       "    </tr>\n",
       "  </thead>\n",
       "  <tbody>\n",
       "    <tr>\n",
       "      <th>count</th>\n",
       "      <td>1.459000e+03</td>\n",
       "    </tr>\n",
       "    <tr>\n",
       "      <th>mean</th>\n",
       "      <td>1.756778e+05</td>\n",
       "    </tr>\n",
       "    <tr>\n",
       "      <th>std</th>\n",
       "      <td>1.007860e+05</td>\n",
       "    </tr>\n",
       "    <tr>\n",
       "      <th>min</th>\n",
       "      <td>-2.371316e+06</td>\n",
       "    </tr>\n",
       "    <tr>\n",
       "      <th>25%</th>\n",
       "      <td>1.277740e+05</td>\n",
       "    </tr>\n",
       "    <tr>\n",
       "      <th>50%</th>\n",
       "      <td>1.575968e+05</td>\n",
       "    </tr>\n",
       "    <tr>\n",
       "      <th>75%</th>\n",
       "      <td>2.096819e+05</td>\n",
       "    </tr>\n",
       "    <tr>\n",
       "      <th>max</th>\n",
       "      <td>6.129425e+05</td>\n",
       "    </tr>\n",
       "  </tbody>\n",
       "</table>\n",
       "</div>"
      ],
      "text/plain": [
       "          SalePrice\n",
       "count  1.459000e+03\n",
       "mean   1.756778e+05\n",
       "std    1.007860e+05\n",
       "min   -2.371316e+06\n",
       "25%    1.277740e+05\n",
       "50%    1.575968e+05\n",
       "75%    2.096819e+05\n",
       "max    6.129425e+05"
      ]
     },
     "execution_count": 46,
     "metadata": {},
     "output_type": "execute_result"
    }
   ],
   "source": [
    "Save2File.rename(columns={'ID':'Id'},inplace=True)\n",
    "Save2File.set_index('Id',inplace=True) \n",
    "Save2File.to_csv('Polynomial_House_Price.csv')\n",
    "Save2File.describe()"
   ]
  },
  {
   "cell_type": "code",
   "execution_count": 47,
   "metadata": {},
   "outputs": [
    {
     "data": {
      "text/html": [
       "<div>\n",
       "<style scoped>\n",
       "    .dataframe tbody tr th:only-of-type {\n",
       "        vertical-align: middle;\n",
       "    }\n",
       "\n",
       "    .dataframe tbody tr th {\n",
       "        vertical-align: top;\n",
       "    }\n",
       "\n",
       "    .dataframe thead th {\n",
       "        text-align: right;\n",
       "    }\n",
       "</style>\n",
       "<table border=\"1\" class=\"dataframe\">\n",
       "  <thead>\n",
       "    <tr style=\"text-align: right;\">\n",
       "      <th></th>\n",
       "      <th>SalePrice</th>\n",
       "    </tr>\n",
       "    <tr>\n",
       "      <th>Id</th>\n",
       "      <th></th>\n",
       "    </tr>\n",
       "  </thead>\n",
       "  <tbody>\n",
       "    <tr>\n",
       "      <th>1461</th>\n",
       "      <td>134783.960410</td>\n",
       "    </tr>\n",
       "    <tr>\n",
       "      <th>1462</th>\n",
       "      <td>153431.772357</td>\n",
       "    </tr>\n",
       "    <tr>\n",
       "      <th>1463</th>\n",
       "      <td>176661.264036</td>\n",
       "    </tr>\n",
       "    <tr>\n",
       "      <th>1464</th>\n",
       "      <td>182583.813017</td>\n",
       "    </tr>\n",
       "    <tr>\n",
       "      <th>1465</th>\n",
       "      <td>197915.908528</td>\n",
       "    </tr>\n",
       "  </tbody>\n",
       "</table>\n",
       "</div>"
      ],
      "text/plain": [
       "          SalePrice\n",
       "Id                 \n",
       "1461  134783.960410\n",
       "1462  153431.772357\n",
       "1463  176661.264036\n",
       "1464  182583.813017\n",
       "1465  197915.908528"
      ]
     },
     "execution_count": 47,
     "metadata": {},
     "output_type": "execute_result"
    }
   ],
   "source": [
    "Save2File.head()"
   ]
  },
  {
   "cell_type": "code",
   "execution_count": 48,
   "metadata": {},
   "outputs": [
    {
     "data": {
      "text/plain": [
       "(array([1.000e+00, 0.000e+00, 0.000e+00, 0.000e+00, 0.000e+00, 0.000e+00,\n",
       "        0.000e+00, 3.000e+00, 1.363e+03, 9.200e+01]),\n",
       " array([-2371316.02597738, -2072890.17778291, -1774464.32958844,\n",
       "        -1476038.48139397, -1177612.6331995 ,  -879186.78500503,\n",
       "         -580760.93681056,  -282335.08861609,    16090.75957839,\n",
       "          314516.60777286,   612942.45596733]),\n",
       " <a list of 10 Patch objects>)"
      ]
     },
     "execution_count": 48,
     "metadata": {},
     "output_type": "execute_result"
    },
    {
     "data": {
      "image/png": "[encoded data removed]",
      "text/plain": [
       "<Figure size 432x288 with 1 Axes>"
      ]
     },
     "metadata": {},
     "output_type": "display_data"
    }
   ],
   "source": [
    "plt.hist(Save2File['SalePrice'])"
   ]
  },
  {
   "cell_type": "code",
   "execution_count": 49,
   "metadata": {},
   "outputs": [
    {
     "ename": "TypeError",
     "evalue": "'type' object is not subscriptable",
     "output_type": "error",
     "traceback": [
      "\u001b[0;31m---------------------------------------------------------------------------\u001b[0m",
      "\u001b[0;31mTypeError\u001b[0m                                 Traceback (most recent call last)",
      "\u001b[0;32m<ipython-input-49-85c1be2583d9>\u001b[0m in \u001b[0;36m<module>\u001b[0;34m()\u001b[0m\n\u001b[0;32m----> 1\u001b[0;31m \u001b[0mlist\u001b[0m\u001b[0;34m[\u001b[0m\u001b[0;34m'abcd'\u001b[0m\u001b[0;34m]\u001b[0m\u001b[0;34m\u001b[0m\u001b[0m\n\u001b[0m\u001b[1;32m      2\u001b[0m \u001b[0mpd\u001b[0m\u001b[0;34m.\u001b[0m\u001b[0mget_dummies\u001b[0m\u001b[0;34m(\u001b[0m\u001b[0ms\u001b[0m\u001b[0;34m)\u001b[0m\u001b[0;34m\u001b[0m\u001b[0m\n",
      "\u001b[0;31mTypeError\u001b[0m: 'type' object is not subscriptable"
     ]
    }
   ],
   "source": [
    "cat_attributes=[key for key in dict(df_train.dtypes=['object'])]"
   ]
  },
  {
   "cell_type": "code",
   "execution_count": null,
   "metadata": {},
   "outputs": [],
   "source": [
    "# from sklearn.model_selection import GridSearchCV\n",
    "\n",
    "# parameters = {'kernel':('poly', 'rbf'), 'C':[1, 10]}"
   ]
  }
 ],
 "metadata": {
  "kernelspec": {
   "display_name": "Python 3",
   "language": "python",
   "name": "python3"
  },
  "language_info": {
   "codemirror_mode": {
    "name": "ipython",
    "version": 3
   },
   "file_extension": ".py",
   "mimetype": "text/x-python",
   "name": "python",
   "nbconvert_exporter": "python",
   "pygments_lexer": "ipython3",
   "version": "3.6.5"
  }
 },
 "nbformat": 4,
 "nbformat_minor": 2
}
